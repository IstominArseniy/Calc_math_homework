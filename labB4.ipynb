{
 "cells": [
  {
   "cell_type": "markdown",
   "metadata": {},
   "source": [
    "$\\mathbf{\\text{Задача 1}}$"
   ]
  },
  {
   "cell_type": "code",
   "execution_count": null,
   "metadata": {},
   "outputs": [],
   "source": [
    "import numpy as np\n",
    "from matplotlib import pyplot as plt"
   ]
  },
  {
   "cell_type": "code",
   "execution_count": 34,
   "metadata": {},
   "outputs": [],
   "source": [
    "def Jacoby_solver(A, f, eps, N_ITER_MAX=int(1e5)):\n",
    "    f = np.array(f)\n",
    "    A = np.array(A)\n",
    "    n = f.shape[0]\n",
    "    x_old = np.array(np.zeros(n))\n",
    "    x_new = np.array(np.zeros(n))\n",
    "    iters = 0\n",
    "    for _ in range(N_ITER_MAX):\n",
    "        iters += 1\n",
    "        for i in range(n):\n",
    "            tmp = 0.0\n",
    "            for j in range(n):\n",
    "                if j != i:\n",
    "                    tmp += A[i, j] * x_old[j]\n",
    "            x_new[i] = 1 / A[i, i] * (f[i] - tmp)\n",
    "        if np.linalg.norm(x_new - x_old) < eps:\n",
    "            break\n",
    "        x_old = x_new.copy()\n",
    "    return x_new, iters"
   ]
  },
  {
   "cell_type": "code",
   "execution_count": 35,
   "metadata": {},
   "outputs": [
    {
     "name": "stdout",
     "output_type": "stream",
     "text": [
      "[[9.00006582]\n",
      " [3.00005291]\n",
      " [2.00006865]]\n",
      "38\n"
     ]
    }
   ],
   "source": [
    "A = [\n",
    "    [2, 1, -1],\n",
    "    [1, -2, 1],\n",
    "    [1, 0, 2]\n",
    "]\n",
    "f = [9, 3, 2]\n",
    "x, n_it = Jacoby_solver(A, f, 0.0001)\n",
    "print(np.array(A)@x.reshape(3, 1))\n",
    "print(n_it)"
   ]
  },
  {
   "cell_type": "code",
   "execution_count": 36,
   "metadata": {},
   "outputs": [],
   "source": [
    "def generate_problem(alpha, n):\n",
    "    # точное решение данной задачи - еденичный вектор\n",
    "    A = np.zeros([n, n])\n",
    "    for i in range(n):\n",
    "        A[i, i] = 2\n",
    "        if i != n - 1:\n",
    "            A[i, i + 1] = -1 - alpha\n",
    "        if i != 0:\n",
    "            A[i, i - 1] = -1 + alpha\n",
    "    f = np.zeros(n)\n",
    "    f[0] = 1 - alpha\n",
    "    f[n - 1] = 1 + alpha\n",
    "    return A, f"
   ]
  },
  {
   "cell_type": "code",
   "execution_count": 38,
   "metadata": {},
   "outputs": [
    {
     "data": {
      "text/plain": [
       "(array([0.99839327, 0.99777009, 0.99787294, 0.99887241]), 29)"
      ]
     },
     "execution_count": 38,
     "metadata": {},
     "output_type": "execute_result"
    }
   ],
   "source": [
    "A, f = generate_problem(0.1, 4)\n",
    "Jacoby_solver(A, f, 0.001)"
   ]
  },
  {
   "cell_type": "markdown",
   "metadata": {},
   "source": [
    "Исследуем скорость схождения от n и $\\alpha$"
   ]
  },
  {
   "cell_type": "code",
   "execution_count": 42,
   "metadata": {},
   "outputs": [
    {
     "data": {
      "text/plain": [
       "[<matplotlib.lines.Line2D at 0x10fec2050>]"
      ]
     },
     "execution_count": 42,
     "metadata": {},
     "output_type": "execute_result"
    },
    {
     "data": {
      "image/png": "[encoded data removed]",
      "text/plain": [
       "<Figure size 432x288 with 1 Axes>"
      ]
     },
     "metadata": {
      "needs_background": "light"
     },
     "output_type": "display_data"
    }
   ],
   "source": [
    "# зависимость от n\n",
    "results = []\n",
    "alpha = 0.2\n",
    "N = 25\n",
    "for i in range(2, N):\n",
    "    A, f = generate_problem(alpha, i)\n",
    "    x, n_iter = Jacoby_solver(A, f, 0.0001)\n",
    "    results.append(n_iter)\n",
    "plt.plot(np.array(range(2, N)), results)"
   ]
  },
  {
   "cell_type": "markdown",
   "metadata": {},
   "source": [
    "Наблюдается линейный рост числа итераций"
   ]
  },
  {
   "cell_type": "code",
   "execution_count": 76,
   "metadata": {},
   "outputs": [
    {
     "data": {
      "text/plain": [
       "[<matplotlib.lines.Line2D at 0x113711290>]"
      ]
     },
     "execution_count": 76,
     "metadata": {},
     "output_type": "execute_result"
    },
    {
     "data": {
      "image/png": "[encoded data removed]",
      "text/plain": [
       "<Figure size 432x288 with 1 Axes>"
      ]
     },
     "metadata": {
      "needs_background": "light"
     },
     "output_type": "display_data"
    }
   ],
   "source": [
    "# зависимость от alpha\n",
    "results = []\n",
    "alpha0 = 0.05\n",
    "n = 10\n",
    "N = 29\n",
    "for i in range(1, N):\n",
    "    A, f = generate_problem(alpha0 * i, n)\n",
    "    x, n_iter = Jacoby_solver(A, f, 0.0001)\n",
    "    results.append(n_iter)\n",
    "plt.plot(np.array(range(1, N)) * alpha0, results)"
   ]
  },
  {
   "cell_type": "markdown",
   "metadata": {},
   "source": [
    "Пока $\\alpha < 1$, наблюдается спад числа итераций. После достижения еденицы наблюдается резкий рост и при $\\alpha = 1.5$ метод Якоби \"разваливается\"."
   ]
  },
  {
   "cell_type": "markdown",
   "metadata": {},
   "source": [
    "$\\mathbf{\\text{Задача 2}}$"
   ]
  },
  {
   "cell_type": "markdown",
   "metadata": {},
   "source": [
    "Напишем итерационный метод Зейделя и сравним на примере этой же системы с методом Якоби"
   ]
  },
  {
   "cell_type": "code",
   "execution_count": 53,
   "metadata": {},
   "outputs": [],
   "source": [
    "def Zeidel_solver(A, f, eps, N_ITER_MAX=int(1e5)):\n",
    "    f = np.array(f)\n",
    "    A = np.array(A)\n",
    "    n = f.shape[0]\n",
    "    x_old = np.array(np.zeros(n))\n",
    "    x_new = np.array(np.zeros(n))\n",
    "    iters = 0\n",
    "    for _ in range(N_ITER_MAX):\n",
    "        iters += 1\n",
    "        for i in range(n):\n",
    "            tmp = 0.0\n",
    "            for j in range(n):\n",
    "                if j > i:\n",
    "                    tmp += A[i, j] * x_old[j]\n",
    "                if j < i:\n",
    "                    tmp += A[i, j] * x_new[j]\n",
    "            x_new[i] = 1 / A[i, i] * (f[i] - tmp)\n",
    "        if np.linalg.norm(x_new - x_old) < eps:\n",
    "            break\n",
    "        x_old = x_new.copy()\n",
    "    return x_new, iters"
   ]
  },
  {
   "cell_type": "code",
   "execution_count": 56,
   "metadata": {},
   "outputs": [
    {
     "data": {
      "text/plain": [
       "(array([0.999079  , 0.99891496, 0.99920996, 0.99964448]), 17)"
      ]
     },
     "execution_count": 56,
     "metadata": {},
     "output_type": "execute_result"
    }
   ],
   "source": [
    "A, f = generate_problem(0.1, 4)\n",
    "Zeidel_solver(A, f, 0.001)"
   ]
  },
  {
   "cell_type": "code",
   "execution_count": 61,
   "metadata": {},
   "outputs": [
    {
     "data": {
      "text/plain": [
       "<matplotlib.legend.Legend at 0x113392d10>"
      ]
     },
     "execution_count": 61,
     "metadata": {},
     "output_type": "execute_result"
    },
    {
     "data": {
      "image/png": "[encoded data removed]",
      "text/plain": [
       "<Figure size 432x288 with 1 Axes>"
      ]
     },
     "metadata": {
      "needs_background": "light"
     },
     "output_type": "display_data"
    }
   ],
   "source": [
    "# зависимость от n для методов Зейделя и Якоби на одном графике\n",
    "resultsJ = []\n",
    "resultsZ = []\n",
    "alpha = 0.2\n",
    "N = 25\n",
    "for i in range(2, N):\n",
    "    A, f = generate_problem(alpha, i)\n",
    "    x, n_iter = Zeidel_solver(A, f, 0.0001)\n",
    "    resultsZ.append(n_iter)\n",
    "    x, n_iter = Jacoby_solver(A, f, 0.0001)\n",
    "    resultsJ.append(n_iter)\n",
    "plt.plot(np.array(range(2, N)), resultsZ, label='Zeidel')\n",
    "plt.plot(np.array(range(2, N)), resultsJ, label='Jacoby')\n",
    "plt.legend()"
   ]
  },
  {
   "cell_type": "markdown",
   "metadata": {},
   "source": [
    "Как видно, для данной задачи метод Зейделя работает приблизительно в два раза быстрее, чем метод Якоби"
   ]
  },
  {
   "cell_type": "markdown",
   "metadata": {},
   "source": [
    "$\\mathbf{\\text{Задача 5}}$"
   ]
  },
  {
   "cell_type": "markdown",
   "metadata": {},
   "source": [
    "Напишем метод релаксации"
   ]
  },
  {
   "cell_type": "code",
   "execution_count": 63,
   "metadata": {},
   "outputs": [],
   "source": [
    "def relaxed_solver(A, f, tau, eps, N_ITER_MAX=int(1e5)):\n",
    "    f = np.array(f)\n",
    "    A = np.array(A)\n",
    "    n = f.shape[0]\n",
    "    x_old = np.array(np.zeros(n))\n",
    "    x_new = np.array(np.zeros(n))\n",
    "    iters = 0\n",
    "    for _ in range(N_ITER_MAX):\n",
    "        iters += 1\n",
    "        for i in range(n):\n",
    "            tmp = 0.0\n",
    "            for j in range(n):\n",
    "                if j > i:\n",
    "                    tmp += A[i, j] * x_old[j]\n",
    "                if j < i:\n",
    "                    tmp += A[i, j] * x_new[j]\n",
    "            x_new[i] = 1 / A[i, i] * (f[i] - tmp)\n",
    "        if np.linalg.norm(x_new - x_old) < eps:\n",
    "            break\n",
    "        x_new = x_new * tau + x_old * (1 - tau)\n",
    "        x_old = x_new.copy()\n",
    "    return x_new, iters"
   ]
  },
  {
   "cell_type": "code",
   "execution_count": 72,
   "metadata": {},
   "outputs": [
    {
     "data": {
      "text/plain": [
       "(array([0.999079  , 0.99891496, 0.99920996, 0.99964448]), 17)"
      ]
     },
     "execution_count": 72,
     "metadata": {},
     "output_type": "execute_result"
    }
   ],
   "source": [
    "A, f = generate_problem(0.1, 4)\n",
    "relaxed_solver(A, f, 1, 0.001)"
   ]
  },
  {
   "cell_type": "markdown",
   "metadata": {},
   "source": [
    "При фиксированных n и $\\alpha$ исследуем зависимость числа итераций от $\\tau$"
   ]
  },
  {
   "cell_type": "code",
   "execution_count": 86,
   "metadata": {},
   "outputs": [
    {
     "data": {
      "text/plain": [
       "[<matplotlib.lines.Line2D at 0x113aa6bd0>]"
      ]
     },
     "execution_count": 86,
     "metadata": {},
     "output_type": "execute_result"
    },
    {
     "data": {
      "image/png": "[encoded data removed]",
      "text/plain": [
       "<Figure size 432x288 with 1 Axes>"
      ]
     },
     "metadata": {
      "needs_background": "light"
     },
     "output_type": "display_data"
    }
   ],
   "source": [
    "results = []\n",
    "alpha = 0.2\n",
    "tau0 = 0.01\n",
    "n = 8\n",
    "A, f = generate_problem(alpha, n)\n",
    "for i in range(1, 199, 2):\n",
    "    x, n_iter = relaxed_solver(A, f, tau0 * i ,0.0001)\n",
    "    results.append(n_iter)\n",
    "plt.plot(np.array(range(1, 199, 2))*tau0, results)"
   ]
  },
  {
   "cell_type": "markdown",
   "metadata": {},
   "source": [
    "Уберем из рассмотрения края интервала (0, 2), где $\\tau$ явно неудачно"
   ]
  },
  {
   "cell_type": "code",
   "execution_count": 84,
   "metadata": {},
   "outputs": [
    {
     "data": {
      "text/plain": [
       "[<matplotlib.lines.Line2D at 0x113827290>]"
      ]
     },
     "execution_count": 84,
     "metadata": {},
     "output_type": "execute_result"
    },
    {
     "data": {
      "image/png": "[encoded data removed]",
      "text/plain": [
       "<Figure size 432x288 with 1 Axes>"
      ]
     },
     "metadata": {
      "needs_background": "light"
     },
     "output_type": "display_data"
    }
   ],
   "source": [
    "results = []\n",
    "alpha = 0.2\n",
    "tau0 = 0.01\n",
    "n = 8\n",
    "A, f = generate_problem(alpha, n)\n",
    "for i in range(50, 180, 1):\n",
    "    x, n_iter = relaxed_solver(A, f, tau0 * i ,0.0001)\n",
    "    results.append(n_iter)\n",
    "plt.plot(np.array(range(50, 180, 1)) * tau0, results)"
   ]
  },
  {
   "cell_type": "markdown",
   "metadata": {},
   "source": [
    "Как видно, минимум достигается для $\\tau \\sim 1.5$.\n",
    "Напишем функцию, ищущую оптимальное $\\tau$ и исследуем зависимость оптимального $\\tau$ от n и $\\alpha$."
   ]
  },
  {
   "cell_type": "code",
   "execution_count": 87,
   "metadata": {},
   "outputs": [],
   "source": [
    "def best_tau(n, alpha):\n",
    "    results = []\n",
    "    tau0 = 0.01\n",
    "    for i in range(1, 199, 1):\n",
    "        A, f = generate_problem(alpha, n)\n",
    "        x, n_iter = relaxed_solver(A, f, tau0 * i ,0.0001)\n",
    "        results.append(n_iter)\n",
    "    return np.argmin(np.array(results)) * tau0"
   ]
  },
  {
   "cell_type": "code",
   "execution_count": 92,
   "metadata": {},
   "outputs": [
    {
     "data": {
      "text/plain": [
       "[<matplotlib.lines.Line2D at 0x113ca41d0>]"
      ]
     },
     "execution_count": 92,
     "metadata": {},
     "output_type": "execute_result"
    },
    {
     "data": {
      "image/png": "[encoded data removed]",
      "text/plain": [
       "<Figure size 432x288 with 1 Axes>"
      ]
     },
     "metadata": {
      "needs_background": "light"
     },
     "output_type": "display_data"
    }
   ],
   "source": [
    "# зависимость лучшего tau от n\n",
    "results = []\n",
    "alpha = 0.2\n",
    "N = 15\n",
    "for i in range(2, N):\n",
    "    results.append(best_tau(i, alpha))\n",
    "plt.plot(np.array(range(2, N)), results)"
   ]
  },
  {
   "cell_type": "markdown",
   "metadata": {},
   "source": [
    "Вычилсения получаются довольно долгими чтобы провести исследования для больших n, но наблюдается стремление к $\\tau \\sim 1.6$"
   ]
  },
  {
   "cell_type": "code",
   "execution_count": 97,
   "metadata": {},
   "outputs": [
    {
     "data": {
      "text/plain": [
       "[<matplotlib.lines.Line2D at 0x113edce90>]"
      ]
     },
     "execution_count": 97,
     "metadata": {},
     "output_type": "execute_result"
    },
    {
     "data": {
      "image/png": "[encoded data removed]",
      "text/plain": [
       "<Figure size 432x288 with 1 Axes>"
      ]
     },
     "metadata": {
      "needs_background": "light"
     },
     "output_type": "display_data"
    }
   ],
   "source": [
    "# зависимость лучшего tau от 0 < alpha <= 1\n",
    "results = []\n",
    "alpha0 = 0.05\n",
    "n = 8\n",
    "for i in range(1, 20):\n",
    "    results.append(best_tau(n, alpha0 * i))\n",
    "plt.plot(np.array(range(1, 20)) * alpha0 , results)"
   ]
  },
  {
   "cell_type": "markdown",
   "metadata": {},
   "source": [
    "Видно, что в среднем, с ростом $\\alpha$, параметр $\\tau$ уменьшается до 1"
   ]
  },
  {
   "cell_type": "markdown",
   "metadata": {},
   "source": [
    "$\\mathbf{\\text{Задача 4}}$"
   ]
  },
  {
   "cell_type": "markdown",
   "metadata": {},
   "source": [
    "Рассмотрим еще один тип двухслойной итерационной схемы: $(L +  D)\\frac{x^{(k + 1)} - x^{(k)}}{\\tau} + Ax^{(k)} = f$"
   ]
  },
  {
   "cell_type": "code",
   "execution_count": 99,
   "metadata": {},
   "outputs": [],
   "source": [
    "def tau_solver(A, f, tau, eps, N_ITER_MAX=int(1e5)):\n",
    "    f = np.array(f)\n",
    "    A = np.array(A)\n",
    "    n = f.shape[0]\n",
    "    x_old = np.array(np.zeros(n))\n",
    "    x_new = np.array(np.zeros(n))\n",
    "    iters = 0\n",
    "    for _ in range(N_ITER_MAX):\n",
    "        iters += 1\n",
    "        for i in range(n):\n",
    "            tmp = 0.0\n",
    "            for j in range(n):\n",
    "                if j > i:\n",
    "                    tmp += A[i, j] * x_old[j] * tau\n",
    "                if j < i:\n",
    "                    tmp = tmp + A[i, j] * (x_new[j] - x_old[j] * (1 - tau))\n",
    "                if j == i:\n",
    "                    tmp -= A[i, j] * x_old[j] * (1 - tau)\n",
    "            x_new[i] = 1 / A[i, i] * (f[i] * tau - tmp)\n",
    "        if np.linalg.norm(x_new - x_old) < eps:\n",
    "            break\n",
    "        x_old = x_new.copy()\n",
    "    return x_new, iters"
   ]
  },
  {
   "cell_type": "code",
   "execution_count": 106,
   "metadata": {},
   "outputs": [
    {
     "data": {
      "text/plain": [
       "(array([1.00023115, 0.99998733, 1.00000295, 0.99999923]), 18)"
      ]
     },
     "execution_count": 106,
     "metadata": {},
     "output_type": "execute_result"
    }
   ],
   "source": [
    "A, f = generate_problem(0.1, 4)\n",
    "tau_solver(A, f, 1.5, 0.001)"
   ]
  },
  {
   "cell_type": "markdown",
   "metadata": {},
   "source": [
    "Повторим вычисления из задачи 5 для этого метода"
   ]
  },
  {
   "cell_type": "code",
   "execution_count": 109,
   "metadata": {},
   "outputs": [
    {
     "data": {
      "text/plain": [
       "[<matplotlib.lines.Line2D at 0x114073c50>]"
      ]
     },
     "execution_count": 109,
     "metadata": {},
     "output_type": "execute_result"
    },
    {
     "data": {
      "image/png": "[encoded data removed]",
      "text/plain": [
       "<Figure size 432x288 with 1 Axes>"
      ]
     },
     "metadata": {
      "needs_background": "light"
     },
     "output_type": "display_data"
    }
   ],
   "source": [
    "results = []\n",
    "alpha = 0.2\n",
    "tau0 = 0.01\n",
    "n = 8\n",
    "A, f = generate_problem(alpha, n)\n",
    "for i in range(50, 180, 1):\n",
    "    x, n_iter = tau_solver(A, f, tau0 * i ,0.0001)\n",
    "    results.append(n_iter)\n",
    "plt.plot(np.array(range(50, 180, 1)) * tau0, results)"
   ]
  },
  {
   "cell_type": "code",
   "execution_count": 110,
   "metadata": {},
   "outputs": [],
   "source": [
    "def best_tau2(n, alpha):\n",
    "    results = []\n",
    "    tau0 = 0.01\n",
    "    for i in range(1, 199, 1):\n",
    "        A, f = generate_problem(alpha, n)\n",
    "        x, n_iter = tau_solver(A, f, tau0 * i ,0.0001)\n",
    "        results.append(n_iter)\n",
    "    return np.argmin(np.array(results)) * tau0"
   ]
  },
  {
   "cell_type": "code",
   "execution_count": 111,
   "metadata": {},
   "outputs": [
    {
     "data": {
      "text/plain": [
       "[<matplotlib.lines.Line2D at 0x114139f50>]"
      ]
     },
     "execution_count": 111,
     "metadata": {},
     "output_type": "execute_result"
    },
    {
     "data": {
      "image/png": "[encoded data removed]",
      "text/plain": [
       "<Figure size 432x288 with 1 Axes>"
      ]
     },
     "metadata": {
      "needs_background": "light"
     },
     "output_type": "display_data"
    }
   ],
   "source": [
    "# зависимость лучшего tau от n\n",
    "results = []\n",
    "alpha = 0.2\n",
    "N = 15\n",
    "for i in range(2, N):\n",
    "    results.append(best_tau2(i, alpha))\n",
    "plt.plot(np.array(range(2, N)), results)"
   ]
  },
  {
   "cell_type": "code",
   "execution_count": 112,
   "metadata": {},
   "outputs": [
    {
     "data": {
      "text/plain": [
       "[<matplotlib.lines.Line2D at 0x1141a4450>]"
      ]
     },
     "execution_count": 112,
     "metadata": {},
     "output_type": "execute_result"
    },
    {
     "data": {
      "image/png": "[encoded data removed]",
      "text/plain": [
       "<Figure size 432x288 with 1 Axes>"
      ]
     },
     "metadata": {
      "needs_background": "light"
     },
     "output_type": "display_data"
    }
   ],
   "source": [
    "# зависимость лучшего tau от 0 < alpha <= 1\n",
    "results = []\n",
    "alpha0 = 0.05\n",
    "n = 8\n",
    "for i in range(1, 20):\n",
    "    results.append(best_tau2(n, alpha0 * i))\n",
    "plt.plot(np.array(range(1, 20)) * alpha0 , results)"
   ]
  },
  {
   "cell_type": "markdown",
   "metadata": {},
   "source": [
    "Как видно, результаты работы методов из задачи 5 и задачи 4 для данной системы различаются незначительно"
   ]
  },
  {
   "cell_type": "code",
   "execution_count": null,
   "metadata": {},
   "outputs": [],
   "source": []
  }
 ],
 "metadata": {
  "kernelspec": {
   "display_name": "Python 3",
   "language": "python",
   "name": "python3"
  },
  "language_info": {
   "codemirror_mode": {
    "name": "ipython",
    "version": 3
   },
   "file_extension": ".py",
   "mimetype": "text/x-python",
   "name": "python",
   "nbconvert_exporter": "python",
   "pygments_lexer": "ipython3",
   "version": "3.7.4"
  }
 },
 "nbformat": 4,
 "nbformat_minor": 2
}
