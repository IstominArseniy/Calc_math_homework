{
 "cells": [
  {
   "cell_type": "code",
   "execution_count": 3,
   "metadata": {},
   "outputs": [],
   "source": [
    "import numpy as np\n",
    "from matplotlib import pyplot as plt"
   ]
  },
  {
   "cell_type": "markdown",
   "metadata": {},
   "source": [
    "$\\mathbf{\\text{Задача 1}}$"
   ]
  },
  {
   "cell_type": "code",
   "execution_count": 7,
   "metadata": {},
   "outputs": [
    {
     "data": {
      "text/plain": [
       "1.2599210498948732"
      ]
     },
     "execution_count": 7,
     "metadata": {},
     "output_type": "execute_result"
    }
   ],
   "source": [
    "def p_norm(x, p):\n",
    "    n = len(x)\n",
    "    ans = (sum(x ** p)) ** (1 / p)\n",
    "    return ans\n",
    "\n",
    "# для произвольного p задача не имеет хорошего аналитического решения.\n",
    "# Для определенных p из списка на https://numpy.org/doc/stable/reference/generated/numpy.linalg.norm.html можно \n",
    "# использовать функцию np.linalg.norm(A, ord=p)\n"
   ]
  },
  {
   "cell_type": "markdown",
   "metadata": {},
   "source": [
    "$\\mathbf{\\text{Задача 2}}$"
   ]
  },
  {
   "cell_type": "code",
   "execution_count": 90,
   "metadata": {},
   "outputs": [],
   "source": [
    "# Хотя норма Фробениуса и есть в функции p.linalg.norm(A, ord=p), напишем ее самостоятельно, использую SVD разложение. \n",
    "# Вообще говоря, быстрее данная норма считается прямым вычислением как корень из суммы квадратов элементов матрицы\n",
    "def frobenius_norm(A):\n",
    "    u, s, vh = np.linalg.svd(A)\n",
    "    return np.sum(s ** 2) ** 0.5"
   ]
  },
  {
   "cell_type": "code",
   "execution_count": 91,
   "metadata": {},
   "outputs": [
    {
     "name": "stdout",
     "output_type": "stream",
     "text": [
      "2.0 2.0\n"
     ]
    }
   ],
   "source": [
    "A = np.array([[1, 1], [-1, 1]])\n",
    "print(frobenius_norm(A), np.linalg.norm(A, ord='fro'))"
   ]
  },
  {
   "cell_type": "markdown",
   "metadata": {},
   "source": [
    " Проверим неравенства $\\frac{1}{\\sqrt{n}}\\|\\mathbf{A}\\|_{F} \\leq\\|\\mathbf{A}\\|_{2} \\leq\\|\\mathbf{A}\\|_{F}$ статистически"
   ]
  },
  {
   "cell_type": "code",
   "execution_count": 11,
   "metadata": {},
   "outputs": [
    {
     "name": "stdout",
     "output_type": "stream",
     "text": [
      "Total correct cases: 1000 out of 1000\n"
     ]
    }
   ],
   "source": [
    "correct_cases = 0\n",
    "N = 1000\n",
    "for i in range(N):\n",
    "    n = np.random.randint(2, 10)\n",
    "    A = np.random.uniform(-5, 5, size=[n, n])\n",
    "    if 1 / n**0.5 * frobenius_norm(A) <= np.linalg.norm(A, ord=2) <= frobenius_norm(A):\n",
    "        correct_cases += 1\n",
    "print('Total correct cases: ' + str(correct_cases) + ' out of ' + str(N))"
   ]
  },
  {
   "cell_type": "markdown",
   "metadata": {},
   "source": [
    "Найдем среднее значение отношения спектральной нормы к норме Фробениуса и исследуем зависимость этой величины от n"
   ]
  },
  {
   "cell_type": "code",
   "execution_count": 18,
   "metadata": {},
   "outputs": [
    {
     "data": {
      "text/plain": [
       "[<matplotlib.lines.Line2D at 0x10f303090>]"
      ]
     },
     "execution_count": 18,
     "metadata": {},
     "output_type": "execute_result"
    },
    {
     "data": {
      "image/png": "[encoded data removed]",
      "text/plain": [
       "<Figure size 432x288 with 1 Axes>"
      ]
     },
     "metadata": {
      "needs_background": "light"
     },
     "output_type": "display_data"
    }
   ],
   "source": [
    "results = []\n",
    "N = 100\n",
    "N_ITER = 100\n",
    "for i in range(1, N):\n",
    "    res = 0.0\n",
    "    for j in range(N_ITER):\n",
    "        A = np.random.uniform(-5, 5, size=[i, i])\n",
    "        res += np.linalg.norm(A, ord=2) / frobenius_norm(A)\n",
    "    res /= N_ITER\n",
    "    results.append(res)\n",
    "plt.plot(np.array(range(1, N)), results)\n",
    "    \n"
   ]
  },
  {
   "cell_type": "markdown",
   "metadata": {},
   "source": [
    "$\\mathbf{\\text{Задача 3}}$"
   ]
  },
  {
   "cell_type": "code",
   "execution_count": 28,
   "metadata": {},
   "outputs": [],
   "source": [
    "def generate_sample(A, m):\n",
    "    n = m.shape[0]\n",
    "    L = np.linalg.cholesky(A)\n",
    "    y = np.random.normal(size=n)\n",
    "    m.reshape(n, 1)\n",
    "    y.reshape(n, 1)\n",
    "    return m + L@y"
   ]
  },
  {
   "cell_type": "code",
   "execution_count": 38,
   "metadata": {},
   "outputs": [
    {
     "name": "stdout",
     "output_type": "stream",
     "text": [
      "[[0.96445996 0.57270653]\n",
      " [0.57270653 1.06848691]]\n"
     ]
    }
   ],
   "source": [
    "A = np.array([[1, 0.5], [0.5, 1]])\n",
    "m = np.array([1, 1])\n",
    "x = []\n",
    "y = []\n",
    "for i in range(100):\n",
    "    a, b = generate_sample(A, m)\n",
    "    x.append(a)\n",
    "    y.append(b)\n",
    "print(np.cov([x, y]))\n"
   ]
  },
  {
   "cell_type": "markdown",
   "metadata": {},
   "source": [
    "$\\mathbf{\\text{Задача 4}}$"
   ]
  },
  {
   "cell_type": "code",
   "execution_count": 60,
   "metadata": {},
   "outputs": [],
   "source": [
    "def find_move(X1, X2):\n",
    "    X1 = np.array(X1)\n",
    "    X2 = np.array(X2)\n",
    "    n = X1.shape[0]\n",
    "    x1 = (np.mean(X1, axis=0)).reshape(2, 1)\n",
    "    x2 = (np.mean(X2, axis=0)).reshape(2, 1)\n",
    "    centredX1 = X1 - np.ones(n).reshape(n, 1) @ x1.T\n",
    "    centredX2 = X2 - np.ones(n).reshape(n, 1) @ x2.T\n",
    "    u, s, vh = np.linalg.svd(X1.T@X2)\n",
    "    R = u@vh\n",
    "    mu = x2 - R.T@x1\n",
    "    return R, mu"
   ]
  },
  {
   "cell_type": "code",
   "execution_count": 75,
   "metadata": {},
   "outputs": [
    {
     "data": {
      "text/plain": [
       "<matplotlib.collections.PathCollection at 0x10cc50910>"
      ]
     },
     "execution_count": 75,
     "metadata": {},
     "output_type": "execute_result"
    },
    {
     "data": {
      "image/png": "[encoded data removed]",
      "text/plain": [
       "<Figure size 432x288 with 1 Axes>"
      ]
     },
     "metadata": {
      "needs_background": "light"
     },
     "output_type": "display_data"
    }
   ],
   "source": [
    "X1 = np.array([\n",
    "    [np.sqrt(2) / 2, 0],\n",
    "    [-np.sqrt(2) / 2, 0],\n",
    "    [0 ,np.sqrt(2) / 2],\n",
    "    [0, -np.sqrt(2) / 2]\n",
    "])\n",
    "X2 = np.array([\n",
    "    [1, 1],\n",
    "    [1, 2],\n",
    "    [2, 1],\n",
    "    [2, 2]\n",
    "])\n",
    "plt.scatter(X1.T[0], X1.T[1])\n",
    "plt.scatter(X2.T[0], X2.T[1])"
   ]
  },
  {
   "cell_type": "code",
   "execution_count": 76,
   "metadata": {},
   "outputs": [
    {
     "data": {
      "text/plain": [
       "<matplotlib.collections.PathCollection at 0x10cc731d0>"
      ]
     },
     "execution_count": 76,
     "metadata": {},
     "output_type": "execute_result"
    },
    {
     "data": {
      "image/png": "[encoded data removed]",
      "text/plain": [
       "<Figure size 432x288 with 1 Axes>"
      ]
     },
     "metadata": {
      "needs_background": "light"
     },
     "output_type": "display_data"
    }
   ],
   "source": [
    "R, mu = find_move(X1, X2)\n",
    "n = X1.shape[0]\n",
    "X1new = (mu@np.ones(n).reshape(1, n) + (R@X1.T)).T\n",
    "plt.scatter(X1new.T[0], X1new.T[1])\n",
    "plt.scatter(X2.T[0], X2.T[1])"
   ]
  },
  {
   "cell_type": "code",
   "execution_count": 80,
   "metadata": {},
   "outputs": [
    {
     "data": {
      "text/plain": [
       "<matplotlib.collections.PathCollection at 0x10fb84050>"
      ]
     },
     "execution_count": 80,
     "metadata": {},
     "output_type": "execute_result"
    },
    {
     "data": {
      "image/png": "[encoded data removed]",
      "text/plain": [
       "<Figure size 432x288 with 1 Axes>"
      ]
     },
     "metadata": {
      "needs_background": "light"
     },
     "output_type": "display_data"
    }
   ],
   "source": [
    "X1 = np.array([\n",
    "    [np.sqrt(2) / 2 + 0.05, 0- 0.1],\n",
    "    [-np.sqrt(2) / 2 - 0.2, 0 + 0.04],\n",
    "    [0 ,np.sqrt(2) / 2 - 0.03],\n",
    "    [0 + 0.15, -np.sqrt(2) / 2]\n",
    "])\n",
    "X2 = np.array([\n",
    "    [1, 1],\n",
    "    [1, 2],\n",
    "    [2, 1],\n",
    "    [2, 2]\n",
    "])\n",
    "plt.scatter(X1.T[0], X1.T[1])\n",
    "plt.scatter(X2.T[0], X2.T[1])\n",
    "R, mu = find_move(X1, X2)\n",
    "n = X1.shape[0]\n",
    "X1new = (mu@np.ones(n).reshape(1, n) + (R@X1.T)).T\n",
    "plt.scatter(X1new.T[0], X1new.T[1])"
   ]
  },
  {
   "cell_type": "code",
   "execution_count": 82,
   "metadata": {},
   "outputs": [
    {
     "data": {
      "text/plain": [
       "<matplotlib.collections.PathCollection at 0x10fb847d0>"
      ]
     },
     "execution_count": 82,
     "metadata": {},
     "output_type": "execute_result"
    },
    {
     "data": {
      "image/png": "[encoded data removed]",
      "text/plain": [
       "<Figure size 432x288 with 1 Axes>"
      ]
     },
     "metadata": {
      "needs_background": "light"
     },
     "output_type": "display_data"
    }
   ],
   "source": [
    "X1 = np.array([\n",
    "    [0, 4],\n",
    "    [0, 5],\n",
    "    [1, 10],\n",
    "    [0, 0]\n",
    "])\n",
    "X2 = np.array([\n",
    "    [1, 1],\n",
    "    [1, 2],\n",
    "    [2, 1],\n",
    "    [2, 2]\n",
    "])\n",
    "plt.scatter(X1.T[0], X1.T[1])\n",
    "plt.scatter(X2.T[0], X2.T[1])\n",
    "R, mu = find_move(X1, X2)\n",
    "n = X1.shape[0]\n",
    "X1new = (mu@np.ones(n).reshape(1, n) + (R@X1.T)).T\n",
    "plt.scatter(X1new.T[0], X1new.T[1])"
   ]
  },
  {
   "cell_type": "code",
   "execution_count": null,
   "metadata": {},
   "outputs": [],
   "source": []
  }
 ],
 "metadata": {
  "kernelspec": {
   "display_name": "Python 3",
   "language": "python",
   "name": "python3"
  },
  "language_info": {
   "codemirror_mode": {
    "name": "ipython",
    "version": 3
   },
   "file_extension": ".py",
   "mimetype": "text/x-python",
   "name": "python",
   "nbconvert_exporter": "python",
   "pygments_lexer": "ipython3",
   "version": "3.7.4"
  }
 },
 "nbformat": 4,
 "nbformat_minor": 2
}
