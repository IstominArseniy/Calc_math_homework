{
 "cells": [
  {
   "cell_type": "code",
   "execution_count": 39,
   "metadata": {},
   "outputs": [],
   "source": [
    "from matplotlib import pyplot as plt\n",
    "import numpy as np"
   ]
  },
  {
   "cell_type": "code",
   "execution_count": 249,
   "metadata": {},
   "outputs": [],
   "source": [
    "N = 500\n",
    "M = 500\n",
    "h = 1 / max(N, M)\n",
    "Grid = np.zeros((N, M))\n",
    "ux1 = np.zeros(M) + 0\n",
    "ux2 = np.zeros(M) + 0\n",
    "uy1 = np.zeros(N) + 0\n",
    "uy2 = np.zeros(N) + 0\n",
    "Grid[0] = ux1\n",
    "Grid[N-1] = ux2\n",
    "Grid[:, 0] = uy1\n",
    "Grid[:, M-1] = uy2"
   ]
  },
  {
   "cell_type": "code",
   "execution_count": 264,
   "metadata": {},
   "outputs": [],
   "source": [
    "def f(x, y):\n",
    "    A = (x - 0.5) ** 2 + (y - 0.5) ** 2 < 0.02**2\n",
    "    return 50 *  np.array(A)\n",
    "\n",
    "def f2(x, y):\n",
    "    return (x+y)**3"
   ]
  },
  {
   "cell_type": "code",
   "execution_count": 265,
   "metadata": {},
   "outputs": [
    {
     "data": {
      "text/plain": [
       "array([[0.00000000e+00, 0.00000000e+00, 0.00000000e+00, ...,\n",
       "        0.00000000e+00, 0.00000000e+00, 0.00000000e+00],\n",
       "       [0.00000000e+00, 7.39477915e-28, 1.50710382e-27, ...,\n",
       "        1.84295754e-27, 9.02987878e-28, 0.00000000e+00],\n",
       "       [0.00000000e+00, 1.50710382e-27, 3.07644591e-27, ...,\n",
       "        3.75608594e-27, 1.84325881e-27, 0.00000000e+00],\n",
       "       ...,\n",
       "       [0.00000000e+00, 1.84295754e-27, 3.75608594e-27, ...,\n",
       "        4.59308420e-27, 2.25047143e-27, 0.00000000e+00],\n",
       "       [0.00000000e+00, 9.02987878e-28, 1.84325881e-27, ...,\n",
       "        2.25047143e-27, 1.10439087e-27, 0.00000000e+00],\n",
       "       [0.00000000e+00, 0.00000000e+00, 0.00000000e+00, ...,\n",
       "        0.00000000e+00, 0.00000000e+00, 0.00000000e+00]])"
      ]
     },
     "execution_count": 265,
     "metadata": {},
     "output_type": "execute_result"
    }
   ],
   "source": [
    "Grid"
   ]
  },
  {
   "cell_type": "code",
   "execution_count": 266,
   "metadata": {},
   "outputs": [
    {
     "data": {
      "text/plain": [
       "<matplotlib.image.AxesImage at 0x1179a40d0>"
      ]
     },
     "execution_count": 266,
     "metadata": {},
     "output_type": "execute_result"
    },
    {
     "data": {
      "image/png": "[encoded data removed]",
      "text/plain": [
       "<Figure size 432x288 with 1 Axes>"
      ]
     },
     "metadata": {
      "needs_background": "light"
     },
     "output_type": "display_data"
    }
   ],
   "source": [
    "eps = 1e-6\n",
    "r = 1e10\n",
    "X, Y = np.meshgrid(np.linspace(0, 1, M, endpoint=False), np.linspace(0, 1, N, endpoint=False))\n",
    "plt.imshow((f(X, Y)), cmap='Greens')"
   ]
  },
  {
   "cell_type": "code",
   "execution_count": null,
   "metadata": {},
   "outputs": [],
   "source": []
  },
  {
   "cell_type": "code",
   "execution_count": 267,
   "metadata": {},
   "outputs": [],
   "source": [
    "while r > eps:\n",
    "    r = np.max(np.abs(Grid[1:N-1, 1:M-1] - (Grid[2:N, 1:M-1] + Grid[0:N-2, 1:M-1] + Grid[1:N-1, 2:M] + Grid[1:N-1, 0:M-2])/4 - f(X[1:N-1, 1:M-1], Y[1:N-1, 1:M-1])*h**2 / 4 ))\n",
    "    Grid[1:N-1, 1:M-1] = (Grid[2:N, 1:M-1] + Grid[0:N-2, 1:M-1] + Grid[1:N-1, 2:M] + Grid[1:N-1, 0:M-2])/4 + f(X[1:N-1, 1:M-1], Y[1:N-1, 1:M-1])*h**2 / 4"
   ]
  },
  {
   "cell_type": "code",
   "execution_count": 268,
   "metadata": {},
   "outputs": [
    {
     "data": {
      "text/plain": [
       "<matplotlib.image.AxesImage at 0x117d3bfd0>"
      ]
     },
     "execution_count": 268,
     "metadata": {},
     "output_type": "execute_result"
    },
    {
     "data": {
      "image/png": "[encoded data removed]",
      "text/plain": [
       "<Figure size 432x288 with 1 Axes>"
      ]
     },
     "metadata": {
      "needs_background": "light"
     },
     "output_type": "display_data"
    }
   ],
   "source": [
    "plt.imshow(Grid[200:300, 200:300], cmap='Greens')"
   ]
  },
  {
   "cell_type": "code",
   "execution_count": null,
   "metadata": {},
   "outputs": [],
   "source": []
  }
 ],
 "metadata": {
  "kernelspec": {
   "display_name": "Python 3",
   "language": "python",
   "name": "python3"
  },
  "language_info": {
   "codemirror_mode": {
    "name": "ipython",
    "version": 3
   },
   "file_extension": ".py",
   "mimetype": "text/x-python",
   "name": "python",
   "nbconvert_exporter": "python",
   "pygments_lexer": "ipython3",
   "version": "3.7.4"
  }
 },
 "nbformat": 4,
 "nbformat_minor": 2
}
