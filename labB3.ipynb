{
 "cells": [
  {
   "cell_type": "code",
   "execution_count": 94,
   "metadata": {},
   "outputs": [],
   "source": [
    "import numpy as np\n",
    "from matplotlib import pyplot as plt\n",
    "import time\n",
    "import scipy.sparse\n",
    "import scipy.linalg\n",
    "from scipy.stats import ortho_group\n",
    "import sys"
   ]
  },
  {
   "cell_type": "markdown",
   "metadata": {},
   "source": [
    "$\\mathbf{\\text{Задача 1}}$\n",
    "\n"
   ]
  },
  {
   "cell_type": "code",
   "execution_count": 148,
   "metadata": {},
   "outputs": [],
   "source": [
    "def generate_rand_band_matrix(N, gen_type):\n",
    "    \"\"\"\n",
    "    gen_type = 0 - diagonal with 3 diags, stored as full matrix\n",
    "    gen_type = 1 - 3 rows, sotred as full matrix\n",
    "    gen_type = 2 - same as gen_type = 0 but stored as scipy sparce matrix\n",
    "    \"\"\"\n",
    "    if gen_type == 0:\n",
    "        d1 = np.random.uniform(-1, 1, size=N - 1)\n",
    "        d2 = np.random.uniform(-1, 1, size=N)\n",
    "        d3 = np.random.uniform(-1, 1, size=N - 1)\n",
    "        diagonals = [d1, d2, d3]\n",
    "        return scipy.sparse.diags(diagonals, [-1, 0, 1]).toarray()\n",
    "    elif gen_type == 1:\n",
    "        A = np.zeros([3, N])\n",
    "        d1 = np.random.uniform(-1, 1, size=N)\n",
    "        d2 = np.random.uniform(-1, 1, size=N)\n",
    "        d3 = np.random.uniform(-1, 1, size=N)\n",
    "        A[0] = d1\n",
    "        A[1] = d2\n",
    "        A[2] = d3\n",
    "        return A\n",
    "    else:\n",
    "        d1 = np.random.uniform(-1, 1, size=N - 1)\n",
    "        d2 = np.random.uniform(-1, 1, size=N)\n",
    "        d3 = np.random.uniform(-1, 1, size=N - 1)\n",
    "        diagonals = [d1, d2, d3]\n",
    "        return scipy.sparse.diags(diagonals, [-1,0, 1])\n",
    "    \n",
    "def generate_const_band_matrix(N, A, B, C, gen_type):\n",
    "    if gen_type == 0:\n",
    "        d1 = A * np.ones(N-1)\n",
    "        d2 = B * np.ones(N)\n",
    "        d3 = C * np.ones(N-1)\n",
    "        diagonals = [d1, d2, d3]\n",
    "        return scipy.sparse.diags(diagonals, [-1, 0, 1]).toarray()\n",
    "    elif gen_type == 1:\n",
    "        A = np.zeros([N, N])\n",
    "        d1 = A * np.ones(N)\n",
    "        d2 = B * np.ones(N)\n",
    "        d3 = C * np.ones(N)\n",
    "        A[0] = d1\n",
    "        A[int(N / 2)] = d2\n",
    "        A[N - 1] = d3\n",
    "        return A\n",
    "    else:\n",
    "        d1 = A * np.ones(N-1)\n",
    "        d2 = B * np.ones(N)\n",
    "        d3 = C * np.ones(N-1)\n",
    "        diagonals = [d1, d2, d3]\n",
    "        return scipy.sparse.diags(diagonals, [-1,0, 1])\n",
    "\n",
    "def generate_eps_band_matrix(N, eps, gen_type):\n",
    "    if gen_type == 0:\n",
    "        d1 = np.random.uniform(-eps, eps, size=N - 1)\n",
    "        d2 = np.random.uniform(-eps, eps, size=N)\n",
    "        d3 = np.random.uniform(-eps, eps, size=N - 1)\n",
    "        diagonals = [d1, d2, d3]\n",
    "        return scipy.sparse.diags(diagonals, [-1, 0, 1]).toarray()\n",
    "    elif gen_type == 1:\n",
    "        A = np.zeros([N, N])\n",
    "        d1 = np.random.uniform(-eps, eps, size=N)\n",
    "        d2 = np.random.uniform(-eps, eps, size=N)\n",
    "        d3 = np.random.uniform(-eps, eps, size=N)\n",
    "        A[0] = d1\n",
    "        A[int(N / 2)] = d2\n",
    "        A[N - 1] = d3\n",
    "        return A\n",
    "    else:\n",
    "        d1 = np.random.uniform(-eps, eps, size=N - 1)\n",
    "        d2 = np.random.uniform(-eps, eps, size=N)\n",
    "        d3 = np.random.uniform(-eps, eps, size=N - 1)\n",
    "        diagonals = [d1, d2, d3]\n",
    "        return scipy.sparse.diags(diagonals, [-1,0, 1])\n",
    "\n",
    "def generate_band_matrix(N, d1, d2, d3, gen_type):\n",
    "    if gen_type == 0:\n",
    "        diagonals = [d1, d2, d3]\n",
    "        return scipy.sparse.diags(diagonals, [-1, 0, 1]).toarray()\n",
    "    elif gen_type == 1:\n",
    "        A = np.zeros([N, N])\n",
    "        A[0] = d1\n",
    "        A[int(N / 2)] = d2\n",
    "        A[N - 1] = d3\n",
    "        return A\n",
    "    else:\n",
    "        diagonals = [d1, d2, d3]\n",
    "        return scipy.sparse.diags(diagonals, [-1,0, 1])"
   ]
  },
  {
   "cell_type": "code",
   "execution_count": 95,
   "metadata": {},
   "outputs": [
    {
     "name": "stdout",
     "output_type": "stream",
     "text": [
      "[[-0.97162736  0.15263643  0.          0.          0.        ]\n",
      " [-0.24904474 -0.44857354  0.12306425  0.          0.        ]\n",
      " [ 0.         -0.72909822 -0.87699756 -0.13929494  0.        ]\n",
      " [ 0.          0.         -0.34819399 -0.71024253  0.35645984]\n",
      " [ 0.          0.          0.         -0.36548117  0.16631738]]\n",
      "312\n"
     ]
    }
   ],
   "source": [
    "A = generate_rand_band_matrix(5, 0)\n",
    "print(A)\n",
    "print(sys.getsizeof(A))"
   ]
  },
  {
   "cell_type": "code",
   "execution_count": 140,
   "metadata": {},
   "outputs": [
    {
     "name": "stdout",
     "output_type": "stream",
     "text": [
      "[[ 0.32265533  0.28821055  0.94324822 -0.81624444 -0.34857643]\n",
      " [-0.22607696  0.08311101 -0.63420119  0.13299183  0.33592779]\n",
      " [ 0.24274018 -0.07286443  0.66166682  0.34297482  0.29152046]]\n",
      "232\n"
     ]
    }
   ],
   "source": [
    "A = generate_rand_band_matrix(5, 1)\n",
    "print(A)\n",
    "print(sys.getsizeof(A))\n",
    "# f = np.ones(5)\n",
    "# scipy.linalg.solve_banded((1, 1), A, f)"
   ]
  },
  {
   "cell_type": "code",
   "execution_count": 97,
   "metadata": {},
   "outputs": [
    {
     "name": "stdout",
     "output_type": "stream",
     "text": [
      "  (1, 0)\t-0.720275298001873\n",
      "  (2, 1)\t0.9266309274672839\n",
      "  (3, 2)\t0.9220921795389394\n",
      "  (4, 3)\t0.87777777669015\n",
      "  (0, 0)\t0.21602633954897454\n",
      "  (1, 1)\t-0.44838991491800306\n",
      "  (2, 2)\t-0.4125175986939704\n",
      "  (3, 3)\t0.7213480730918567\n",
      "  (4, 4)\t0.8171180414153218\n",
      "  (0, 1)\t0.8045804936205116\n",
      "  (1, 2)\t0.7862007263476618\n",
      "  (2, 3)\t-0.6677699440074596\n",
      "  (3, 4)\t0.3369357181507304\n",
      "64\n"
     ]
    }
   ],
   "source": [
    "A = generate_rand_band_matrix(5, 2)\n",
    "print(A)\n",
    "print(sys.getsizeof(A))"
   ]
  },
  {
   "cell_type": "markdown",
   "metadata": {},
   "source": [
    "Как видно, поледний способ требует значительно меньше памяти"
   ]
  },
  {
   "cell_type": "markdown",
   "metadata": {},
   "source": [
    "Исследуем, как зависит скорость решения систем с трехдиагональными матрицами методами solve, solve_banded, spsolve модуля scipy.linalg"
   ]
  },
  {
   "cell_type": "code",
   "execution_count": 147,
   "metadata": {},
   "outputs": [
    {
     "data": {
      "text/plain": [
       "<matplotlib.legend.Legend at 0x12328d710>"
      ]
     },
     "execution_count": 147,
     "metadata": {},
     "output_type": "execute_result"
    },
    {
     "data": {
      "image/png": "[encoded data removed]",
      "text/plain": [
       "<Figure size 432x288 with 1 Axes>"
      ]
     },
     "metadata": {
      "needs_background": "light"
     },
     "output_type": "display_data"
    }
   ],
   "source": [
    "from scipy.sparse.linalg import spsolve\n",
    "import scipy.sparse.linalg\n",
    "times1 = []\n",
    "times2 = []\n",
    "times3 = []\n",
    "N = 400\n",
    "for i in range(3, N):\n",
    "    avar_t1 = 0.0\n",
    "    avar_t2 = 0.0\n",
    "    avar_t3 = 0.0\n",
    "    f = np.ones(i)\n",
    "    for _ in range(100):\n",
    "        A = generate_rand_band_matrix(i, 0)\n",
    "        B = generate_rand_band_matrix(i, 2)\n",
    "        C = generate_rand_band_matrix(i, 1)\n",
    "        \n",
    "        start = time.time()\n",
    "        x = scipy.linalg.solve(A, f)\n",
    "        end = time.time()\n",
    "        avar_t1 += end - start  \n",
    "        \n",
    "        start = time.time()\n",
    "        x = spsolve(B, f)\n",
    "        end = time.time()\n",
    "        avar_t3 += end - start  \n",
    "        \n",
    "        start = time.time()\n",
    "        x = scipy.linalg.solve_banded((1, 1), C, f)\n",
    "        end = time.time()\n",
    "        avar_t2 += end - start \n",
    "    avar_t1 /= 100\n",
    "    avar_t2 /= 100\n",
    "    avar_t3 /= 100\n",
    "    times1.append(avar_t1)\n",
    "    times2.append(avar_t2)\n",
    "    times3.append(avar_t3)\n",
    "plt.plot(np.array(range(3, N)), times1, label='solve')\n",
    "plt.plot(np.array(range(3, N)), times2, label='solve_banded')\n",
    "plt.plot(np.array(range(3, N)), times3, label='spsolve')\n",
    "plt.yscale('log')\n",
    "plt.xscale('log')\n",
    "plt.legend()"
   ]
  },
  {
   "cell_type": "code",
   "execution_count": 150,
   "metadata": {},
   "outputs": [
    {
     "name": "stderr",
     "output_type": "stream",
     "text": [
      "/Library/Frameworks/Python.framework/Versions/3.7/lib/python3.7/site-packages/scipy/sparse/linalg/dsolve/linsolve.py:310: SparseEfficiencyWarning: splu requires CSC matrix format\n",
      "  warn('splu requires CSC matrix format', SparseEfficiencyWarning)\n"
     ]
    }
   ],
   "source": [
    "A = generate_rand_band_matrix(10, 2)\n",
    "f = np.ones(10)\n",
    "A = scipy.sparse.linalg.splu(A).solve(f)"
   ]
  },
  {
   "cell_type": "markdown",
   "metadata": {},
   "source": [
    "$\\mathbf{\\text{Задача 4}}$(без доказательства) "
   ]
  },
  {
   "cell_type": "markdown",
   "metadata": {},
   "source": [
    "Метод Гаусса требует $n^2 + (n-1)^2 + ... + 1^2 = \\frac{n(n+1)(2n + 1)}{6} \\sim \\frac{n^3}{3}$\n",
    "\n",
    "Так как на i-м шаге метода вращений Гивенса каждая строка вычисляется за $4(n-i)$ операций, то всего получим : $4n \\cdot n + 4(n - 1) \\cdot (n - 1) + ...  + 4$ \\sim \\frac{4n^3}{3}$"
   ]
  },
  {
   "cell_type": "markdown",
   "metadata": {},
   "source": [
    "Сравним скорости работы QR и LU разложений"
   ]
  },
  {
   "cell_type": "code",
   "execution_count": 158,
   "metadata": {},
   "outputs": [
    {
     "data": {
      "text/plain": [
       "<matplotlib.legend.Legend at 0x1291bd610>"
      ]
     },
     "execution_count": 158,
     "metadata": {},
     "output_type": "execute_result"
    },
    {
     "data": {
      "image/png": "[encoded data removed]",
      "text/plain": [
       "<Figure size 432x288 with 1 Axes>"
      ]
     },
     "metadata": {
      "needs_background": "light"
     },
     "output_type": "display_data"
    }
   ],
   "source": [
    "from scipy.sparse.linalg import spsolve\n",
    "import scipy.sparse.linalg\n",
    "times1 = []\n",
    "times2 = []\n",
    "N = 400\n",
    "for i in range(3, N):\n",
    "    avar_t1 = 0.0\n",
    "    avar_t2 = 0.0\n",
    "    f = np.ones(i)\n",
    "    for _ in range(100):\n",
    "        A = np.random.uniform(-1, 1, size=[i, i])\n",
    "        start = time.time()\n",
    "        p, l, u = scipy.linalg.lu(A)\n",
    "        end = time.time()\n",
    "        avar_t1 += end - start  \n",
    "        \n",
    "        start = time.time()\n",
    "        q, r = scipy.linalg.qr(A)\n",
    "        end = time.time()\n",
    "        avar_t2 += end - start  \n",
    "        \n",
    "    avar_t1 /= 100\n",
    "    avar_t2 /= 100\n",
    "    times1.append(avar_t1)\n",
    "    times2.append(avar_t2)\n",
    "plt.plot(np.array(range(3, N)), times1, label='LU')\n",
    "plt.plot(np.array(range(3, N)), times2, label='QR')\n",
    "#plt.yscale('log')\n",
    "#plt.xscale('log')\n",
    "plt.legend()"
   ]
  },
  {
   "cell_type": "markdown",
   "metadata": {},
   "source": [
    "Видно, что QR разложение работает медленнее. Построим график отношения времен работ."
   ]
  },
  {
   "cell_type": "code",
   "execution_count": 160,
   "metadata": {},
   "outputs": [
    {
     "data": {
      "text/plain": [
       "<matplotlib.legend.Legend at 0x12bf85690>"
      ]
     },
     "execution_count": 160,
     "metadata": {},
     "output_type": "execute_result"
    },
    {
     "data": {
      "image/png": "[encoded data removed]",
      "text/plain": [
       "<Figure size 432x288 with 1 Axes>"
      ]
     },
     "metadata": {
      "needs_background": "light"
     },
     "output_type": "display_data"
    }
   ],
   "source": [
    "plt.plot(np.array(range(3, N)), np.array(times2) / np.array(times1), label='QR / LU')\n",
    "plt.legend()"
   ]
  },
  {
   "cell_type": "markdown",
   "metadata": {},
   "source": [
    "Видно, что для больших N, отношение близко к 4-м, хотя и стремится скорее к 3.5 (в силу особенностей библиотечных реализаций)."
   ]
  },
  {
   "cell_type": "markdown",
   "metadata": {},
   "source": [
    "$\\mathbf{\\text{Задача 5}}$\n",
    "\n",
    "Сравним скорость работы МПИ с точностью $10^{-9}$ с обычным методом LU разложения"
   ]
  },
  {
   "cell_type": "code",
   "execution_count": 51,
   "metadata": {},
   "outputs": [],
   "source": [
    "def MPI(A, f, tau, eps, ITER_MAX=int(1e7)):\n",
    "    A = np.array(A)\n",
    "    f = np.array(f)\n",
    "    n = A.shape[0]\n",
    "    x = np.zeros(n)\n",
    "    n_iter = 0\n",
    "    for i in range(ITER_MAX):\n",
    "        n_iter += 1\n",
    "        x_old = x\n",
    "        x = ((np.eye(n) - tau * A) @ x.reshape(n, 1)).reshape(1, n) + tau * f\n",
    "        if np.linalg.norm(x - x_old) < eps:\n",
    "            break\n",
    "    return x, n_iter"
   ]
  },
  {
   "cell_type": "code",
   "execution_count": 17,
   "metadata": {},
   "outputs": [
    {
     "data": {
      "text/plain": [
       "(array([[-2.,  2.]]), 38)"
      ]
     },
     "execution_count": 17,
     "metadata": {},
     "output_type": "execute_result"
    }
   ],
   "source": [
    "A = np.array([\n",
    "    [0.5, 1],\n",
    "    [0, 0.5]\n",
    "])\n",
    "f = [1, 1]\n",
    "MPI(A, f, 1, 1e-9)"
   ]
  },
  {
   "cell_type": "code",
   "execution_count": 36,
   "metadata": {},
   "outputs": [
    {
     "data": {
      "text/plain": [
       "<matplotlib.legend.Legend at 0x12437afd0>"
      ]
     },
     "execution_count": 36,
     "metadata": {},
     "output_type": "execute_result"
    },
    {
     "data": {
      "image/png": "[encoded data removed]",
      "text/plain": [
       "<Figure size 432x288 with 1 Axes>"
      ]
     },
     "metadata": {
      "needs_background": "light"
     },
     "output_type": "display_data"
    }
   ],
   "source": [
    "timesLU = []\n",
    "timesMPI = []\n",
    "N = 80\n",
    "for i in range(2, N):\n",
    "    avar_tLU = 0.0\n",
    "    avar_tMPI = 0.0\n",
    "    f = np.ones(i)\n",
    "    for _ in range(100):\n",
    "        A = np.diag(np.random.uniform(0.1, 0.9, size=i))\n",
    "        Q = ortho_group.rvs(i)\n",
    "        A = Q.T @ A @ Q\n",
    "        start = time.time()\n",
    "        x = np.linalg.solve(A, f)\n",
    "        end = time.time()\n",
    "        avar_tLU += end - start        \n",
    "        start = time.time()\n",
    "        x, iters = MPI(A, f, 1, 1e-9)\n",
    "        end = time.time()\n",
    "        avar_tMPI += end - start                \n",
    "    avar_tLU /= 100\n",
    "    avar_tMPI /= 100\n",
    "    timesLU.append(avar_tLU)\n",
    "    timesMPI.append(avar_tMPI)\n",
    "plt.plot(np.array(range(2, N)), timesLU, label='LU')\n",
    "plt.plot(np.array(range(2, N)), timesMPI, label='MPI')\n",
    "plt.yscale('log')\n",
    "plt.xscale('log')\n",
    "plt.legend()"
   ]
  },
  {
   "cell_type": "markdown",
   "metadata": {},
   "source": [
    "Как видно, написанный на питоне МПИ работает значительно дольше, чем написанный на плюсах LU в numpy. Однако, по графикам видно, что МПИ имеет заметно лучшую асимптотику. Кроме того, как будет видно в задаче 6, МПИ в целом требует большое число итераций."
   ]
  },
  {
   "cell_type": "markdown",
   "metadata": {},
   "source": [
    "$\\mathbf{\\text{Задача 6}}$\n",
    "\n"
   ]
  },
  {
   "cell_type": "markdown",
   "metadata": {},
   "source": [
    "Для положительно определенных матриц наилучший параметр $\\tau$ можно найти явно, как $\\frac{2}{\\lambda_{max} - \\lambda_{min}}$. Данное утверждение доказано в файле \"ProblemB3_6.pdf\". Из рассуждений из доказательства также следует, что сходимость с некоторой скорости будет достигаться при $ 0 < \\tau < \\frac{2}{\\lambda_{max}} $. Проверим это утверждение численным экспериментом."
   ]
  },
  {
   "cell_type": "code",
   "execution_count": 68,
   "metadata": {},
   "outputs": [
    {
     "name": "stdout",
     "output_type": "stream",
     "text": [
      "66400\n",
      "137900\n",
      "2554242\n",
      "58436\n",
      "42046\n",
      "2872\n",
      "9016\n",
      "5475353\n",
      "18771\n",
      "87246\n",
      "There was 10 convergencies out of 10\n"
     ]
    }
   ],
   "source": [
    "N = 10\n",
    "n = 10\n",
    "N_convergencies = 0\n",
    "f = np.ones(n)\n",
    "for i in range(N):\n",
    "    A = np.random.uniform(-1, 1, size=[n, n])\n",
    "    A = A.T@A\n",
    "    lambdas, vect = np.linalg.eig(A)\n",
    "    l_max = np.max(lambdas)\n",
    "    tau = np.random.uniform(0.0 + 1e-8, 2 / l_max - 1e-8)\n",
    "    # tau = 2 / (l_min + l_max)\n",
    "    l, vect = np.linalg.eig(tau * A - np.eye(n))\n",
    "    # print(np.max(l))\n",
    "    x, n_iter = MPI(A, f, tau, 1e-9)\n",
    "    if n_iter < int(1e7):\n",
    "        N_convergencies += 1\n",
    "    print(n_iter)\n",
    "print(\"There was \" + str(N_convergencies) + \" convergencies out of \" + str(N))\n",
    "    \n",
    "    "
   ]
  },
  {
   "cell_type": "markdown",
   "metadata": {},
   "source": [
    "Сходимость при предсказанных $\\tau$ имеется, однако методу требуется очень большое число итераций."
   ]
  },
  {
   "cell_type": "code",
   "execution_count": null,
   "metadata": {},
   "outputs": [],
   "source": []
  }
 ],
 "metadata": {
  "kernelspec": {
   "display_name": "Python 3",
   "language": "python",
   "name": "python3"
  },
  "language_info": {
   "codemirror_mode": {
    "name": "ipython",
    "version": 3
   },
   "file_extension": ".py",
   "mimetype": "text/x-python",
   "name": "python",
   "nbconvert_exporter": "python",
   "pygments_lexer": "ipython3",
   "version": "3.7.4"
  }
 },
 "nbformat": 4,
 "nbformat_minor": 2
}
