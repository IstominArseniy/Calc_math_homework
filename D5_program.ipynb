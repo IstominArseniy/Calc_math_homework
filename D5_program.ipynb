{
 "cells": [
  {
   "cell_type": "markdown",
   "metadata": {},
   "source": [
    "# Решение уравнения переноса\n",
    "$u_{t}+\\lambda u_{x}=0$\n",
    "\n",
    "Напишем схему третьего порядка аппрокисмации для шаблона №5 из задания. Поставим периодические граничные условия."
   ]
  },
  {
   "cell_type": "code",
   "execution_count": 1,
   "metadata": {},
   "outputs": [],
   "source": [
    "from matplotlib import pyplot as plt\n",
    "import numpy as np\n"
   ]
  },
  {
   "cell_type": "code",
   "execution_count": 65,
   "metadata": {},
   "outputs": [
    {
     "name": "stdout",
     "output_type": "stream",
     "text": [
      "Currant number: 0.5\n"
     ]
    }
   ],
   "source": [
    "lmb = 0.5\n",
    "L = 1 # length of x axis\n",
    "T = 50 # length of t axis\n",
    "dx = 1e-3 # spatial step\n",
    "dt = 1e-3 # time step\n",
    "sigma = lmb * dt / dx\n",
    "print(\"Currant number:\", sigma)\n",
    "N = int(T / dt)\n",
    "M = int(L / dx)\n",
    "Grid = np.zeros((N, M))"
   ]
  },
  {
   "cell_type": "code",
   "execution_count": 66,
   "metadata": {},
   "outputs": [],
   "source": [
    "# начальное условие\n",
    "Grid[0, int(M/10):int(M/10 * 2)] = Grid[0, int(M/10):int(M/10 * 2)] = 1"
   ]
  },
  {
   "cell_type": "code",
   "execution_count": 67,
   "metadata": {},
   "outputs": [
    {
     "data": {
      "text/plain": [
       "[<matplotlib.lines.Line2D at 0x1289ec910>]"
      ]
     },
     "execution_count": 67,
     "metadata": {},
     "output_type": "execute_result"
    },
    {
     "data": {
      "image/png": "[encoded data removed]",
      "text/plain": [
       "<Figure size 432x288 with 1 Axes>"
      ]
     },
     "metadata": {
      "needs_background": "light"
     },
     "output_type": "display_data"
    }
   ],
   "source": [
    "plt.plot(Grid[0])"
   ]
  },
  {
   "cell_type": "code",
   "execution_count": 68,
   "metadata": {},
   "outputs": [],
   "source": [
    "for i in range(2, N):\n",
    "    for j in range(0, M):\n",
    "        Grid[i, j] = 2 * sigma*(2 * sigma - 1) / (sigma + 1) * Grid[i-1, j-1] + 2 * sigma * Grid[i-2, j-1] + (2 - 4 * sigma) * Grid[i-1, j] + (-2 * sigma**2 + 3 * sigma -1) / (sigma + 1) * Grid[i-2, j]\n",
    "    "
   ]
  },
  {
   "cell_type": "code",
   "execution_count": 78,
   "metadata": {},
   "outputs": [
    {
     "data": {
      "text/plain": [
       "<matplotlib.legend.Legend at 0x129958050>"
      ]
     },
     "execution_count": 78,
     "metadata": {},
     "output_type": "execute_result"
    },
    {
     "data": {
      "image/png": "[encoded data removed]",
      "text/plain": [
       "<Figure size 432x288 with 1 Axes>"
      ]
     },
     "metadata": {
      "needs_background": "light"
     },
     "output_type": "display_data"
    }
   ],
   "source": [
    "plt.plot(Grid[0], label='t = 0')\n",
    "plt.plot(Grid[50], label='t = 0.05')\n",
    "plt.plot(Grid[500], label='t = 0.5')\n",
    "plt.plot(Grid[1000], label='t = 1')\n",
    "plt.plot(Grid[4770], label='t = 47.7')\n",
    "plt.legend()"
   ]
  },
  {
   "cell_type": "markdown",
   "metadata": {},
   "source": [
    "За более чем 20 периодов не наблюдается видимого расплывания."
   ]
  },
  {
   "cell_type": "code",
   "execution_count": null,
   "metadata": {},
   "outputs": [],
   "source": []
  }
 ],
 "metadata": {
  "kernelspec": {
   "display_name": "Python 3",
   "language": "python",
   "name": "python3"
  },
  "language_info": {
   "codemirror_mode": {
    "name": "ipython",
    "version": 3
   },
   "file_extension": ".py",
   "mimetype": "text/x-python",
   "name": "python",
   "nbconvert_exporter": "python",
   "pygments_lexer": "ipython3",
   "version": "3.7.4"
  }
 },
 "nbformat": 4,
 "nbformat_minor": 2
}
