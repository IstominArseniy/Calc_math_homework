{
 "cells": [
  {
   "cell_type": "code",
   "execution_count": 3,
   "metadata": {},
   "outputs": [],
   "source": [
    "import numpy as np\n",
    "from scipy import special\n",
    "from scipy import linalg\n",
    "from matplotlib import pyplot as plt"
   ]
  },
  {
   "cell_type": "markdown",
   "metadata": {},
   "source": [
    "$\\mathbf{Задача 1}$ \n",
    "\n",
    "Генераторы:"
   ]
  },
  {
   "cell_type": "code",
   "execution_count": 41,
   "metadata": {},
   "outputs": [],
   "source": [
    "def random_matrix(n, min_value, max_value):\n",
    "    return np.random.randint(min_value, max_value, size=[n, n])\n",
    "def random_diagonal(n, min_value, max_value):\n",
    "    return np.diag(np.random.randint(min_value, max_value, size=[n]))\n",
    "def random_upper_triangular(n, min_value, max_value):\n",
    "    return np.triu(random_matrix(n, min_value, max_value))\n",
    "def random_lower_triangular(n, min_value, max_value):\n",
    "    return random_matrix(n, min_value, max_value).tril()\n",
    "def random_sym(n, min_value, max_value):\n",
    "    A = random_upper_triangular(n, min_value, max_value)\n",
    "    return (A + A.T - np.diag(np.diag(A)))\n",
    "def random_singular(n, min_value, max_value):\n",
    "    A = random_matrix(n, min_value, max_value)\n",
    "    ind1, ind2, ind3 = np.random.choice(range(n), 3, replace=False)\n",
    "    tmp = A[ind1]\n",
    "    A[ind1] = np.ceil(((A[ind2] + A[ind3]) / 2))\n",
    "    A[ind2] = 2 * A[ind1] - A[ind3]\n",
    "    return A\n",
    "def random_ladder_with_given_rank(n, min_value, max_value, m):\n",
    "    A = random_upper_triangular(n, min_value, max_value)\n",
    "    t = np.floor((max_value + min_value) / 2)\n",
    "    if t == 0:\n",
    "        t = 1\n",
    "    A[np.diag(np.diag(A)==0)] = t\n",
    "    A[m:n,:] = np.zeros((n - m, n))\n",
    "    return A\n",
    "def random_perturbation(n, m, eps):\n",
    "    return np.random.uniform(-eps, eps, size=[n, m])"
   ]
  },
  {
   "cell_type": "markdown",
   "metadata": {},
   "source": [
    "Оценим вероятность того, что случайная матрица из функции random_matrix окажется вырожденной"
   ]
  },
  {
   "cell_type": "code",
   "execution_count": 3,
   "metadata": {},
   "outputs": [
    {
     "data": {
      "text/plain": [
       "[<matplotlib.lines.Line2D at 0x10e1d3310>]"
      ]
     },
     "execution_count": 3,
     "metadata": {},
     "output_type": "execute_result"
    },
    {
     "data": {
      "image/png": "[encoded data removed]",
      "text/plain": [
       "<Figure size 432x288 with 1 Axes>"
      ]
     },
     "metadata": {
      "needs_background": "light"
     },
     "output_type": "display_data"
    }
   ],
   "source": [
    "k = 0\n",
    "tries = 10000\n",
    "ns = 10\n",
    "M = 5\n",
    "ans = np.zeros(ns - 1)\n",
    "for j in range(1, ns):\n",
    "    n = j\n",
    "    k = 0\n",
    "    for i in range(tries):\n",
    "        A = random_matrix(n, -M, M)\n",
    "        if np.linalg.matrix_rank(A) != n:\n",
    "            k += 1\n",
    "    ans[j - 1] = (k / tries)\n",
    "plt.plot(np.array(range(1, ns)), ans)"
   ]
  },
  {
   "cell_type": "markdown",
   "metadata": {},
   "source": [
    "Вероятность вырождения крайне быстро падает с ростом размера матрицы"
   ]
  },
  {
   "cell_type": "markdown",
   "metadata": {},
   "source": [
    "Оценим L2 норму матрицы возмущений в зависимости от $\\varepsilon$"
   ]
  },
  {
   "cell_type": "code",
   "execution_count": 4,
   "metadata": {},
   "outputs": [
    {
     "name": "stdout",
     "output_type": "stream",
     "text": [
      "3.1848653352875917 0.2696876659602285\n"
     ]
    }
   ],
   "source": [
    "def L2(A):\n",
    "    return (np.amax(np.linalg.eigvals(A.T @ A)))**0.5\n",
    "eps = 0.05\n",
    "N = 100\n",
    "results = np.zeros(N)\n",
    "for i in range(N):\n",
    "    n = 10\n",
    "    A = random_perturbation(n, n, eps)\n",
    "    results[i] = L2(A) / eps\n",
    "print(results.mean(), results.std())"
   ]
  },
  {
   "cell_type": "markdown",
   "metadata": {},
   "source": [
    "В среднем L2 норма матрицы возмущений в 3 раза превышает $\\varepsilon$"
   ]
  },
  {
   "cell_type": "markdown",
   "metadata": {},
   "source": [
    "$\\mathbf{Задача 2}$"
   ]
  },
  {
   "cell_type": "code",
   "execution_count": 5,
   "metadata": {},
   "outputs": [
    {
     "name": "stdout",
     "output_type": "stream",
     "text": [
      "4.5399929433607724e-05\n",
      "4.539992976248486e-05\n",
      "4.5399929762484854e-05\n",
      "eps1 = 7.2440008560647795e-09\n",
      "eps2 = 1.4925713791816933e-16\n"
     ]
    }
   ],
   "source": [
    "def exp(x, modified=True):\n",
    "    invert = False\n",
    "    if modified == True:\n",
    "        if x < 0:\n",
    "            x = -x\n",
    "            invert = True\n",
    "    \n",
    "    y = 1\n",
    "    n = 1\n",
    "    n_factorial = 1\n",
    "    while y != y + x ** n / n_factorial:\n",
    "        y = y + x ** n / n_factorial\n",
    "        n += 1\n",
    "        n_factorial *= n  \n",
    "    if invert == True:\n",
    "        y = 1 / y\n",
    "    return y\n",
    "\n",
    "print(exp(-10, modified=False))\n",
    "print(exp(-10, modified=True))\n",
    "print(np.exp(-10))\n",
    "print('eps1 = ' + str(abs(exp(-10, modified=False) - np.exp(-10)) / np.exp(-10) ))\n",
    "print('eps2 = ' + str(abs(exp(-10, modified=True) - np.exp(-10)) / np.exp(-10) ))\n"
   ]
  },
  {
   "cell_type": "code",
   "execution_count": 6,
   "metadata": {},
   "outputs": [
    {
     "name": "stdout",
     "output_type": "stream",
     "text": [
      "0.6418538861723935\n",
      "0.6418538861723947\n",
      "eps = 1.9026843233284708e-15\n"
     ]
    }
   ],
   "source": [
    "def ln(x):\n",
    "    y = 0\n",
    "    n = 1\n",
    "    x -= 1\n",
    "    while y != y + x**n / n * (-1)**(n + 1):\n",
    "        y = y + x**n / n * (-1)**(n + 1)\n",
    "        n += 1\n",
    "    return y\n",
    "# x must be 0 < x < 2\n",
    "print(ln(1.9))\n",
    "print(np.log(1.9))\n",
    "print('eps = '+str(np.abs(ln(1.9) - np.log(1.9)) / np.log(1.9)))"
   ]
  },
  {
   "cell_type": "code",
   "execution_count": 7,
   "metadata": {},
   "outputs": [
    {
     "name": "stdout",
     "output_type": "stream",
     "text": [
      "-0.003933512359032309\n",
      "-3.915421574187413e-15\n",
      "4.899825157862589e-15\n"
     ]
    }
   ],
   "source": [
    "def sin(x, modified=True):\n",
    "    y = 0\n",
    "    n = 1\n",
    "    n_factorial = 1\n",
    "    if modified:\n",
    "        x = x % (2 * np.pi) # can be done better but(make x from -pi/2 to pi/2) but it need more ifs...\n",
    "    while y != y + x**n / n_factorial * (-1)**((n + 1) / 2):\n",
    "        y = y + x**n / n_factorial * (-1)**((n + 1) / 2)\n",
    "        n_factorial = n_factorial * (n + 1) * (n + 2)\n",
    "        n += 2\n",
    "    return y\n",
    "print(sin(11 * np.pi, modified=False))\n",
    "print(sin(11 * np.pi))\n",
    "print(np.sin(11 * np.pi))"
   ]
  },
  {
   "cell_type": "code",
   "execution_count": 8,
   "metadata": {},
   "outputs": [
    {
     "name": "stdout",
     "output_type": "stream",
     "text": [
      "-1.0162797280573401\n",
      "-0.995004165278026\n",
      "-0.9950041652780262\n"
     ]
    }
   ],
   "source": [
    "def cos(x, modified=True):\n",
    "    y = 1\n",
    "    n = 2\n",
    "    n_factorial = 2\n",
    "    if modified:\n",
    "        x = x % (2 * np.pi) # can be done better but(make x from -pi/2 to pi/2) but it need more ifs...\n",
    "    while y != y + x**n / n_factorial * (-1)**(n / 2):\n",
    "        y = y + x**n / n_factorial * (-1)**(n / 2)\n",
    "        n_factorial = n_factorial * (n + 1) * (n + 2)\n",
    "        n += 2\n",
    "    return y\n",
    "print(cos(11 * np.pi + 0.1, modified=False))\n",
    "print(cos(11 * np.pi + 0.1))\n",
    "print(np.cos(11 * np.pi + 0.1))"
   ]
  },
  {
   "cell_type": "code",
   "execution_count": 36,
   "metadata": {},
   "outputs": [
    {
     "name": "stdout",
     "output_type": "stream",
     "text": [
      "[ 1.         -0.5         0.16666667  0.         -0.03333333  0.\n",
      "  0.02380952  0.         -0.03333333  0.        ]\n",
      "inf 0.5463024898437905\n"
     ]
    }
   ],
   "source": [
    "bernoulli = scipy.special.bernoulli(1000)\n",
    "print(bernoulli[0:10])\n",
    "def tan(x):\n",
    "    y = 0\n",
    "    n = 1\n",
    "    n2_fact = 2\n",
    "    while y != y + (-1)**(n-1) * 2**(2 * n) * (2**(2 * n) - 1) / n2_fact * bernoulli[2 * n] * x**(2 * n - 1):\n",
    "        y = y + (-1)**(n-1) * 2**(2 * n) * (2**(2 * n) - 1) / n2_fact * bernoulli[2 * n] * x**(2 * n - 1)\n",
    "        n = n + 1\n",
    "        n2_fact = n2_fact * (2 * n)\n",
    "    return y\n",
    "print(tan(0.5), np.tan(0.5))"
   ]
  },
  {
   "cell_type": "code",
   "execution_count": 10,
   "metadata": {},
   "outputs": [],
   "source": [
    "def cot(x):\n",
    "    pass\n",
    "    "
   ]
  },
  {
   "cell_type": "markdown",
   "metadata": {},
   "source": [
    "$\\mathbf{Задача 3}$\n",
    "\n",
    "Реазизуем вычисление основных векторных и подчиненных им матричных норм. Заметим, что матричная норма подчиненная векторной, примененная к вектору как столбцу, дает искомую векторную норму. Поэтому не нужно писть различные функции для векторной и для матричной норм."
   ]
  },
  {
   "cell_type": "code",
   "execution_count": 11,
   "metadata": {},
   "outputs": [],
   "source": [
    "def L2(A, treat_array_as_vector=True):\n",
    "    if treat_array_as_vector == True:\n",
    "        if len(A.shape) == 1:\n",
    "            A = A.reshape((-1, 1))\n",
    "    return (np.amax(np.linalg.eigvals(A.T @ A)))**0.5\n",
    "\n",
    "def L1(A, treat_array_as_vector=True):\n",
    "    if treat_array_as_vector == True:\n",
    "        if len(A.shape) == 1:\n",
    "            A = A.reshape((-1, 1))\n",
    "    A = np.abs(A)\n",
    "    return np.amax(np.sum(A, axis=0))\n",
    "\n",
    "def Linf(A, treat_array_as_vector=True):\n",
    "    if treat_array_as_vector == True:\n",
    "        if len(A.shape) == 1:\n",
    "            A = A.reshape((-1, 1))\n",
    "    A = np.abs(A)\n",
    "    return np.amax(np.sum(A, axis=1))\n",
    "\n",
    "def cond_number(A, norm):\n",
    "    if A.shape[0] != A.shape[1]:\n",
    "        return np.infty\n",
    "    if np.linalg.matrix_rank(A) != A.shape[0]:\n",
    "        return np.infty\n",
    "    return norm(A) * norm(np.linalg.inv(A))"
   ]
  },
  {
   "cell_type": "code",
   "execution_count": 12,
   "metadata": {},
   "outputs": [
    {
     "data": {
      "text/plain": [
       "25.0"
      ]
     },
     "execution_count": 12,
     "metadata": {},
     "output_type": "execute_result"
    }
   ],
   "source": [
    "cond_number(np.array([[1, 2],[2, 3]]), L1)\n"
   ]
  },
  {
   "cell_type": "markdown",
   "metadata": {},
   "source": [
    "$\\mathbf{Задача 4}$"
   ]
  },
  {
   "cell_type": "code",
   "execution_count": 44,
   "metadata": {},
   "outputs": [],
   "source": [
    "def gauss_transfrom(A):\n",
    "    n, m = A.shape\n",
    "    pos = 0\n",
    "    A = A.astype(np.float)\n",
    "    for i in range(m):\n",
    "        non_zero_elem_ind = -1\n",
    "        for j in range(pos, n):\n",
    "            if A[j, i] != 0:\n",
    "                non_zero_elem_ind = j\n",
    "                break\n",
    "        if non_zero_elem_ind != -1:\n",
    "            A[[pos, non_zero_elem_ind]] = A[[non_zero_elem_ind, pos]]\n",
    "        else:\n",
    "            continue\n",
    "        for j in range(pos + 1, n):\n",
    "            A[j] = A[j] -  A[pos] / A[pos, i] * A[j, i]\n",
    "        pos += 1\n",
    "        #print(A)\n",
    "    return A\n",
    "    "
   ]
  },
  {
   "cell_type": "code",
   "execution_count": 70,
   "metadata": {},
   "outputs": [],
   "source": [
    "def get_rank(A):\n",
    "    A = gauss_transfrom(A)\n",
    "    return np.sum(np.any(A, axis=1))"
   ]
  },
  {
   "cell_type": "markdown",
   "metadata": {},
   "source": [
    "Проверим, как работает функция вычисления ранга"
   ]
  },
  {
   "cell_type": "code",
   "execution_count": 76,
   "metadata": {},
   "outputs": [
    {
     "data": {
      "text/plain": [
       "3"
      ]
     },
     "execution_count": 76,
     "metadata": {},
     "output_type": "execute_result"
    }
   ],
   "source": [
    "A = random_ladder_with_given_rank(5, -1, 1, 3)\n",
    "get_rank(A)"
   ]
  },
  {
   "cell_type": "code",
   "execution_count": 78,
   "metadata": {},
   "outputs": [
    {
     "data": {
      "text/plain": [
       "1"
      ]
     },
     "execution_count": 78,
     "metadata": {},
     "output_type": "execute_result"
    }
   ],
   "source": [
    "A = random_ladder_with_given_rank(5, -1, 1, 1)\n",
    "get_rank(A)"
   ]
  },
  {
   "cell_type": "code",
   "execution_count": 77,
   "metadata": {},
   "outputs": [
    {
     "data": {
      "text/plain": [
       "5"
      ]
     },
     "execution_count": 77,
     "metadata": {},
     "output_type": "execute_result"
    }
   ],
   "source": [
    "A = random_ladder_with_given_rank(5, -1, 1, 5)\n",
    "get_rank(A)"
   ]
  },
  {
   "cell_type": "markdown",
   "metadata": {},
   "source": [
    "$\\mathbf{Задача 5}$"
   ]
  },
  {
   "cell_type": "code",
   "execution_count": 141,
   "metadata": {},
   "outputs": [],
   "source": [
    "def gauss_solver(A, f):\n",
    "    A = np.array(A, dtype='float')\n",
    "    f = np.array(f, dtype='float')\n",
    "    f = f.reshape(1, -1)\n",
    "    n = f.shape[1]\n",
    "    x = np.zeros(n)\n",
    "    if get_rank(A) != n:\n",
    "        return -1\n",
    "    Af = np.concatenate((A, f.reshape(n, 1)), axis=1)\n",
    "    Af = gauss_transfrom(Af)\n",
    "    for i in range(n-1, -1, -1):\n",
    "        tmp = 0.0\n",
    "        for j in range(i + 1, n):\n",
    "            tmp += x[j] * Af[i, j]\n",
    "        x[i] = (Af[i, n] - tmp) / Af[i, i]\n",
    "    return x"
   ]
  },
  {
   "cell_type": "code",
   "execution_count": 142,
   "metadata": {},
   "outputs": [
    {
     "data": {
      "text/plain": [
       "array([-0.5,  0.5,  1. ])"
      ]
     },
     "execution_count": 142,
     "metadata": {},
     "output_type": "execute_result"
    }
   ],
   "source": [
    "B = np.array([\n",
    "    [1, 3, 1],\n",
    "    [0, 2, 0],\n",
    "    [0, 0, 1]\n",
    "])\n",
    "f = [2, 1, 1]\n",
    "gauss_solver(B, f)"
   ]
  },
  {
   "cell_type": "markdown",
   "metadata": {},
   "source": [
    "Прямой ход метода Гаусса требует O(n^3) операций, обратный: O(n^2). Итого, O(n^3)."
   ]
  },
  {
   "cell_type": "markdown",
   "metadata": {},
   "source": [
    "$\\mathbf{Задача 6}$"
   ]
  },
  {
   "cell_type": "markdown",
   "metadata": {},
   "source": [
    "Вычислим число обсусловленности матрицы экспериментально, через возмущения правых частей"
   ]
  },
  {
   "cell_type": "code",
   "execution_count": 190,
   "metadata": {},
   "outputs": [
    {
     "data": {
      "text/plain": [
       "50"
      ]
     },
     "execution_count": 190,
     "metadata": {},
     "output_type": "execute_result"
    }
   ],
   "source": [
    "N = 50\n",
    "A = random_matrix(N, -10, 10)\n",
    "get_rank(A)"
   ]
  },
  {
   "cell_type": "code",
   "execution_count": 191,
   "metadata": {},
   "outputs": [
    {
     "name": "stdout",
     "output_type": "stream",
     "text": [
      "[-0.13008976  0.00978762 -0.05207421  0.07981898 -0.0277966   0.08129757\n",
      "  0.0188701  -0.20710573 -0.03601425 -0.07485865 -0.00111241 -0.17967732\n",
      " -0.12642727  0.20328641  0.15868091  0.2013163  -0.12446165 -0.07624925\n",
      "  0.10430679 -0.05535733  0.05435255 -0.05662363  0.15245702 -0.06261548\n",
      " -0.07083464 -0.03452267  0.09219604  0.06601068  0.0724405   0.15079798\n",
      " -0.18431672  0.00291216 -0.07251482  0.05572004 -0.11721646 -0.00984809\n",
      " -0.04498616 -0.04371977  0.03043347  0.00511603  0.05396578  0.00356752\n",
      " -0.02386192  0.01626967  0.13330144  0.08602258  0.04428195  0.05913807\n",
      "  0.10412632  0.24531577]\n",
      "[-0.13008976  0.00978762 -0.05207421  0.07981898 -0.0277966   0.08129757\n",
      "  0.0188701  -0.20710573 -0.03601425 -0.07485865 -0.00111241 -0.17967732\n",
      " -0.12642727  0.20328641  0.15868091  0.2013163  -0.12446165 -0.07624925\n",
      "  0.10430679 -0.05535733  0.05435255 -0.05662363  0.15245702 -0.06261548\n",
      " -0.07083464 -0.03452267  0.09219604  0.06601068  0.0724405   0.15079798\n",
      " -0.18431672  0.00291216 -0.07251482  0.05572004 -0.11721646 -0.00984809\n",
      " -0.04498616 -0.04371977  0.03043347  0.00511603  0.05396578  0.00356752\n",
      " -0.02386192  0.01626967  0.13330144  0.08602258  0.04428195  0.05913807\n",
      "  0.10412632  0.24531577]\n"
     ]
    }
   ],
   "source": [
    "f = np.ones(N)\n",
    "print(np.linalg.solve(A, f))\n",
    "print(gauss_solver(A, f))"
   ]
  },
  {
   "cell_type": "code",
   "execution_count": 192,
   "metadata": {},
   "outputs": [
    {
     "name": "stdout",
     "output_type": "stream",
     "text": [
      "5.608393197819258 84.16273285020455\n"
     ]
    }
   ],
   "source": [
    "x = gauss_solver(A, f)\n",
    "mu = 1.0\n",
    "# print(x)\n",
    "for i in range(1000):\n",
    "    f1 = f + np.random.uniform(-0.05, 0.05, size = N)\n",
    "    x1 = gauss_solver(A, f1)\n",
    "    tmp = (np.linalg.norm(x1 - x) / np.linalg.norm(x)) / (np.linalg.norm(f1 - f) / np.linalg.norm(f))\n",
    "    mu = max(mu, tmp)\n",
    "print(mu, np.linalg.cond(A))"
   ]
  },
  {
   "cell_type": "code",
   "execution_count": 189,
   "metadata": {},
   "outputs": [
    {
     "data": {
      "text/plain": [
       "1.0"
      ]
     },
     "execution_count": 189,
     "metadata": {},
     "output_type": "execute_result"
    }
   ],
   "source": [
    "C = np.array([\n",
    "    [2, 0], \n",
    "    [0, 2]\n",
    "])\n",
    "np.linalg.cond(C)"
   ]
  },
  {
   "cell_type": "code",
   "execution_count": null,
   "metadata": {},
   "outputs": [],
   "source": []
  }
 ],
 "metadata": {
  "kernelspec": {
   "display_name": "Python 3",
   "language": "python",
   "name": "python3"
  },
  "language_info": {
   "codemirror_mode": {
    "name": "ipython",
    "version": 3
   },
   "file_extension": ".py",
   "mimetype": "text/x-python",
   "name": "python",
   "nbconvert_exporter": "python",
   "pygments_lexer": "ipython3",
   "version": "3.7.4"
  }
 },
 "nbformat": 4,
 "nbformat_minor": 2
}
