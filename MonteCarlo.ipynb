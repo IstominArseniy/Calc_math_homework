{
 "cells": [
  {
   "cell_type": "code",
   "execution_count": 1,
   "metadata": {},
   "outputs": [],
   "source": [
    "import numpy as np\n",
    "from matplotlib import pyplot as plt\n"
   ]
  },
  {
   "cell_type": "code",
   "execution_count": 39,
   "metadata": {},
   "outputs": [],
   "source": [
    "sigma = 1\n",
    "N = 10000\n",
    "sigma_c = sigma * 10**(-3)\n",
    "L = 10**(2)"
   ]
  },
  {
   "cell_type": "code",
   "execution_count": 40,
   "metadata": {},
   "outputs": [
    {
     "name": "stdout",
     "output_type": "stream",
     "text": [
      "Absorbed: 0.0842\n",
      "Passed: 0.0006\n",
      "Reflected: 0.9152\n"
     ]
    },
    {
     "data": {
      "text/plain": [
       "(array([153., 144., 121.,  83.,  60.,  62.,  45.,  29.,  32.,  18.,  24.,\n",
       "         18.,  18.,   9.,  10.,   7.,   1.,   3.,   2.,   3.]),\n",
       " array([1.57432417e-02, 4.20594829e+00, 8.39615334e+00, 1.25863584e+01,\n",
       "        1.67765634e+01, 2.09667685e+01, 2.51569735e+01, 2.93471786e+01,\n",
       "        3.35373836e+01, 3.77275887e+01, 4.19177937e+01, 4.61079988e+01,\n",
       "        5.02982038e+01, 5.44884089e+01, 5.86786139e+01, 6.28688190e+01,\n",
       "        6.70590240e+01, 7.12492291e+01, 7.54394341e+01, 7.96296392e+01,\n",
       "        8.38198442e+01]),\n",
       " <a list of 20 Patch objects>)"
      ]
     },
     "execution_count": 40,
     "metadata": {},
     "output_type": "execute_result"
    },
    {
     "data": {
      "image/png": "[encoded data removed]",
      "text/plain": [
       "<Figure size 432x288 with 1 Axes>"
      ]
     },
     "metadata": {
      "needs_background": "light"
     },
     "output_type": "display_data"
    }
   ],
   "source": [
    "c_xs = []\n",
    "N_c = 0\n",
    "N_t = 0\n",
    "N_r = 0\n",
    "for i in range(N):\n",
    "    x = 0\n",
    "    mu = 1\n",
    "    while True:\n",
    "        lmb = - 1 / sigma * np.log(np.random.uniform(1e-3, 1))\n",
    "        x = x + lmb * mu\n",
    "        if x >= L:\n",
    "            N_t += 1\n",
    "            break\n",
    "        elif x <=0:\n",
    "            N_r += 1\n",
    "            break\n",
    "        elif np.random.uniform(0, 1) <= sigma_c / sigma:\n",
    "            N_c += 1\n",
    "            c_xs.append(x)\n",
    "            break\n",
    "        mu = np.random.uniform(-1, 1)\n",
    "print(\"Absorbed: \" + str(N_c / N))\n",
    "print(\"Passed: \" + str(N_t / N))\n",
    "print(\"Reflected: \" + str(N_r / N))\n",
    "plt.hist(c_xs, bins = 20)"
   ]
  },
  {
   "cell_type": "code",
   "execution_count": null,
   "metadata": {},
   "outputs": [],
   "source": []
  },
  {
   "cell_type": "code",
   "execution_count": null,
   "metadata": {},
   "outputs": [],
   "source": []
  }
 ],
 "metadata": {
  "kernelspec": {
   "display_name": "Python 3",
   "language": "python",
   "name": "python3"
  },
  "language_info": {
   "codemirror_mode": {
    "name": "ipython",
    "version": 3
   },
   "file_extension": ".py",
   "mimetype": "text/x-python",
   "name": "python",
   "nbconvert_exporter": "python",
   "pygments_lexer": "ipython3",
   "version": "3.7.4"
  }
 },
 "nbformat": 4,
 "nbformat_minor": 2
}
