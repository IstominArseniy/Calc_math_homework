{
 "cells": [
  {
   "cell_type": "code",
   "execution_count": 1,
   "metadata": {},
   "outputs": [],
   "source": [
    "import numpy as np\n",
    "from matplotlib import pyplot as plt\n",
    "import time"
   ]
  },
  {
   "cell_type": "markdown",
   "metadata": {},
   "source": [
    "Упражнение 1"
   ]
  },
  {
   "cell_type": "code",
   "execution_count": 2,
   "metadata": {},
   "outputs": [
    {
     "name": "stdout",
     "output_type": "stream",
     "text": [
      "[[1. 1. 1. 1. 1.]\n",
      " [1. 1. 1. 1. 1.]\n",
      " [1. 1. 1. 1. 1.]] \n",
      " [[0. 0. 0. 0. 0. 0. 0. 0. 0. 0.]\n",
      " [0. 0. 0. 0. 0. 0. 0. 0. 0. 0.]\n",
      " [0. 0. 0. 0. 0. 0. 0. 0. 0. 0.]] \n",
      " [[1. 1. 1. 1. 1. 0. 0. 0. 0. 0. 0. 0. 0. 0. 0.]\n",
      " [1. 1. 1. 1. 1. 0. 0. 0. 0. 0. 0. 0. 0. 0. 0.]\n",
      " [1. 1. 1. 1. 1. 0. 0. 0. 0. 0. 0. 0. 0. 0. 0.]]\n"
     ]
    }
   ],
   "source": [
    "a = np.ones((3, 5))\n",
    "b = np.zeros((3, 10))\n",
    "c = np.concatenate((a, b), axis=1)\n",
    "print(a, '\\n', b, '\\n', c)"
   ]
  },
  {
   "cell_type": "markdown",
   "metadata": {},
   "source": [
    "Упражнение 2"
   ]
  },
  {
   "cell_type": "code",
   "execution_count": 3,
   "metadata": {},
   "outputs": [
    {
     "name": "stdout",
     "output_type": "stream",
     "text": [
      "[[0.97105749 0.50371392 0.71125763 0.04073351 0.60517191 0.13404849\n",
      "  0.72055615 0.2657839  0.16278476 0.69669591]\n",
      " [0.25080088 0.15093783 0.13971678 0.22588304 0.70375836 0.33009084\n",
      "  0.43801785 0.73212974 0.79192476 0.24511435]\n",
      " [0.16804823 0.13405618 0.19039223 0.41846877 0.64659525 0.12200944\n",
      "  0.80449387 0.44248835 0.49274871 0.97332647]\n",
      " [0.76969051 0.82609999 0.86016483 0.90750897 0.01723099 0.98944846\n",
      "  0.47534024 0.32461108 0.21102568 0.99721504]\n",
      " [0.45296081 0.54792782 0.27112275 0.29229798 0.91663216 0.79702625\n",
      "  0.91474863 0.99734737 0.94705608 0.91517344]\n",
      " [0.94519638 0.56501639 0.61276659 0.87438633 0.85599901 0.70144382\n",
      "  0.70708963 0.47351959 0.70200298 0.72800986]\n",
      " [0.36167315 0.33623257 0.69225575 0.26735491 0.87419343 0.22741358\n",
      "  0.77227511 0.26752195 0.08252207 0.76846409]\n",
      " [0.41038433 0.092301   0.96543959 0.51858725 0.21573822 0.58595028\n",
      "  0.13050572 0.67087105 0.30675803 0.71993823]\n",
      " [0.08348937 0.78314788 0.15414029 0.23091059 0.5209841  0.91684253\n",
      "  0.31590347 0.4336756  0.04765192 0.90472991]\n",
      " [0.56182181 0.18561825 0.83920695 0.35225288 0.25690278 0.11782626\n",
      "  0.45639158 0.84323394 0.26309623 0.20427197]] [3 0 5 8 5] [7 3 4 4 3]\n",
      "[0.32461108 0.04073351 0.85599901 0.5209841  0.87438633]\n"
     ]
    }
   ],
   "source": [
    "M = np.random.rand(10, 10)\n",
    "a = np.random.randint(0, 9, 5)\n",
    "b = np.random.randint(0, 9, 5)\n",
    "print(M, a, b)\n",
    "c = M[a, b]\n",
    "print(c)"
   ]
  },
  {
   "cell_type": "markdown",
   "metadata": {},
   "source": [
    "Упражнение 3"
   ]
  },
  {
   "cell_type": "code",
   "execution_count": 4,
   "metadata": {},
   "outputs": [
    {
     "name": "stdout",
     "output_type": "stream",
     "text": [
      "[[0. 0. 0.]\n",
      " [0. 2. 0.]\n",
      " [0. 0. 2.]]\n",
      "4.0\n",
      "2\n"
     ]
    }
   ],
   "source": [
    "a = np.eye(3) * 2\n",
    "a[0, 0] = 0\n",
    "print(a)\n",
    "print(np.trace(a))\n",
    "print(np.count_nonzero(np.diagonal(a)))"
   ]
  },
  {
   "cell_type": "markdown",
   "metadata": {},
   "source": [
    "Упражнение 4"
   ]
  },
  {
   "cell_type": "code",
   "execution_count": 5,
   "metadata": {},
   "outputs": [
    {
     "name": "stdout",
     "output_type": "stream",
     "text": [
      "[[[1 3 3]\n",
      "  [3 1 1]\n",
      "  [2 2 3]]\n",
      "\n",
      " [[1 2 1]\n",
      "  [3 1 1]\n",
      "  [2 1 3]]\n",
      "\n",
      " [[3 3 1]\n",
      "  [1 2 1]\n",
      "  [2 3 2]]]\n",
      "[[ 1 11]\n",
      " [ 2  7]\n",
      " [ 3  9]]\n"
     ]
    }
   ],
   "source": [
    "t = np.random.randint(1, 4, (3, 3, 3))\n",
    "(unique, counts) = np.unique(t, return_counts=True)\n",
    "print(t)\n",
    "ans = np.asarray((unique, counts))\n",
    "ans = ans.T\n",
    "print(ans)"
   ]
  },
  {
   "cell_type": "markdown",
   "metadata": {},
   "source": [
    "Упражнение 5"
   ]
  },
  {
   "cell_type": "code",
   "execution_count": 6,
   "metadata": {},
   "outputs": [
    {
     "name": "stdout",
     "output_type": "stream",
     "text": [
      "[[  8 -10  -1  -1  -4]\n",
      " [  4   3  -5   7  -5]\n",
      " [  7  -6  -7  -6   4]\n",
      " [ -6  -6   5  -9   6]]\n",
      "[[ -9   0   7   0 -10]\n",
      " [ -1   9  -3 -10  -4]\n",
      " [  5   9  -9   8   5]\n",
      " [  8   9 -10   8  -3]]\n",
      "[[ -9   0   0   0   0]\n",
      " [ -1   9   0 -10   0]\n",
      " [  5   0   0   0   5]\n",
      " [  0   0 -10   0  -3]]\n"
     ]
    }
   ],
   "source": [
    "a = np.random.randint(-10, 10, (4, 5))\n",
    "print(a)\n",
    "b = np.random.randint(-10, 10, (4, 5))\n",
    "print(b)\n",
    "b = np.where(a < 0, 0, b)\n",
    "print(b)"
   ]
  },
  {
   "cell_type": "markdown",
   "metadata": {},
   "source": [
    "Упражнение 6"
   ]
  },
  {
   "cell_type": "code",
   "execution_count": 7,
   "metadata": {},
   "outputs": [
    {
     "name": "stdout",
     "output_type": "stream",
     "text": [
      "[[-3 -6  1  0]\n",
      " [ 5 -6  1  3]\n",
      " [-3 -5  2 -1]]\n",
      "[-0.33333333 -5.66666667  1.33333333  0.66666667]\n",
      "[[-0.33333333 -5.66666667  1.33333333  0.66666667]\n",
      " [-0.33333333 -5.66666667  1.33333333  0.66666667]\n",
      " [-0.33333333 -5.66666667  1.33333333  0.66666667]]\n",
      "[[-2.66666667 -0.33333333 -0.33333333 -0.66666667]\n",
      " [ 5.33333333 -0.33333333 -0.33333333  2.33333333]\n",
      " [-2.66666667  0.66666667  0.66666667 -1.66666667]]\n",
      "[6.53197265 0.81649658 0.81649658 2.94392029]\n",
      "[[-0.40824829 -0.40824829 -0.40824829 -0.22645541]\n",
      " [ 0.81649658 -0.40824829 -0.40824829  0.79259392]\n",
      " [-0.40824829  0.81649658  0.81649658 -0.56613852]]\n"
     ]
    }
   ],
   "source": [
    "M = np.random.randint(-6, 6, (3, 4))\n",
    "print(M)\n",
    "avar = np.mean(M, axis = 0)\n",
    "print(avar)\n",
    "print(np.ones((3, 1)) * avar )\n",
    "M = M - avar * np.ones((3, 1)) \n",
    "print(M)\n",
    "sq = np.sum(M ** 2, axis = 0) ** 0.5\n",
    "print(sq)\n",
    "M = M / np.where(sq * np.ones((3, 1)) != 0, sq * np.ones((3, 1)), 1)\n",
    "print(M)"
   ]
  },
  {
   "cell_type": "markdown",
   "metadata": {},
   "source": [
    "Упражнение 7"
   ]
  },
  {
   "cell_type": "code",
   "execution_count": 8,
   "metadata": {},
   "outputs": [
    {
     "name": "stdout",
     "output_type": "stream",
     "text": [
      "[[ 1 -2 -6 -6]\n",
      " [ 5 -3  4 -3]\n",
      " [ 0  1  5  5]]\n",
      "[[-2  5  5  4]\n",
      " [-1  0 -2  1]\n",
      " [ 3 -4 -1  5]]\n"
     ]
    }
   ],
   "source": [
    "A = np.random.randint(-6, 6, (3, 4))\n",
    "B = np.random.randint(-6, 6, (3, 4))\n",
    "print(A)\n",
    "print(B)\n",
    "A = A.T\n",
    "B = B.T"
   ]
  },
  {
   "cell_type": "markdown",
   "metadata": {},
   "source": [
    "Упражнение 8"
   ]
  },
  {
   "cell_type": "code",
   "execution_count": 9,
   "metadata": {},
   "outputs": [
    {
     "name": "stdout",
     "output_type": "stream",
     "text": [
      "[    10     10     12     13     14     15     17     19     21     23\n",
      "     25     27     30     33     36     40     44     48     53     58\n",
      "     64     70     77     84     93    102    112    123    135    148\n",
      "    162    178    196    215    236    259    284    312    343    376\n",
      "    413    453    497    546    599    657    722    792    869    954\n",
      "   1047   1149   1261   1384   1519   1668   1830   2009   2205   2420\n",
      "   2656   2915   3199   3511   3853   4229   4641   5094   5590   6135\n",
      "   6734   7390   8111   8902   9770  10722  11768  12915  14174  15556\n",
      "  17073  18738  20565  22570  24770  27185  29836  32745  35938  39442\n",
      "  43287  47508  52140  57223  62802  68926  75646  83021  91116 100000]\n"
     ]
    }
   ],
   "source": [
    "N_set = np.logspace(1, 5, 100)\n",
    "N_set = N_set.astype(int)\n",
    "print(N_set)"
   ]
  },
  {
   "cell_type": "code",
   "execution_count": 10,
   "metadata": {},
   "outputs": [
    {
     "ename": "TypeError",
     "evalue": "'tuple' object cannot be interpreted as an integer",
     "output_type": "error",
     "traceback": [
      "\u001b[0;31m---------------------------------------------------------------------------\u001b[0m",
      "\u001b[0;31mTypeError\u001b[0m                                 Traceback (most recent call last)",
      "\u001b[0;32m<ipython-input-10-91c7dbeec6b5>\u001b[0m in \u001b[0;36m<module>\u001b[0;34m\u001b[0m\n\u001b[1;32m      3\u001b[0m \u001b[0mmatirces2\u001b[0m \u001b[0;34m=\u001b[0m \u001b[0;34m[\u001b[0m\u001b[0;34m]\u001b[0m\u001b[0;34m\u001b[0m\u001b[0;34m\u001b[0m\u001b[0m\n\u001b[1;32m      4\u001b[0m \u001b[0;32mfor\u001b[0m \u001b[0mi\u001b[0m \u001b[0;32min\u001b[0m \u001b[0mrange\u001b[0m\u001b[0;34m(\u001b[0m\u001b[0;36m100\u001b[0m\u001b[0;34m)\u001b[0m\u001b[0;34m:\u001b[0m\u001b[0;34m\u001b[0m\u001b[0;34m\u001b[0m\u001b[0m\n\u001b[0;32m----> 5\u001b[0;31m     \u001b[0mmatirces1\u001b[0m\u001b[0;34m.\u001b[0m\u001b[0mappend\u001b[0m\u001b[0;34m(\u001b[0m\u001b[0mnp\u001b[0m\u001b[0;34m.\u001b[0m\u001b[0mrandom\u001b[0m\u001b[0;34m.\u001b[0m\u001b[0mrand\u001b[0m\u001b[0;34m(\u001b[0m\u001b[0;34m(\u001b[0m\u001b[0mN_set\u001b[0m\u001b[0;34m[\u001b[0m\u001b[0mi\u001b[0m\u001b[0;34m]\u001b[0m\u001b[0;34m,\u001b[0m \u001b[0mN_set\u001b[0m\u001b[0;34m[\u001b[0m\u001b[0mi\u001b[0m\u001b[0;34m]\u001b[0m\u001b[0;34m)\u001b[0m\u001b[0;34m)\u001b[0m\u001b[0;34m)\u001b[0m\u001b[0;34m\u001b[0m\u001b[0;34m\u001b[0m\u001b[0m\n\u001b[0m\u001b[1;32m      6\u001b[0m     \u001b[0mmatirces2\u001b[0m\u001b[0;34m.\u001b[0m\u001b[0mappend\u001b[0m\u001b[0;34m(\u001b[0m\u001b[0mnp\u001b[0m\u001b[0;34m.\u001b[0m\u001b[0mrandom\u001b[0m\u001b[0;34m.\u001b[0m\u001b[0mrand\u001b[0m\u001b[0;34m(\u001b[0m\u001b[0;34m(\u001b[0m\u001b[0mN_set\u001b[0m\u001b[0;34m[\u001b[0m\u001b[0mi\u001b[0m\u001b[0;34m]\u001b[0m\u001b[0;34m,\u001b[0m \u001b[0mN_set\u001b[0m\u001b[0;34m[\u001b[0m\u001b[0mi\u001b[0m\u001b[0;34m]\u001b[0m\u001b[0;34m)\u001b[0m\u001b[0;34m)\u001b[0m\u001b[0;34m)\u001b[0m\u001b[0;34m\u001b[0m\u001b[0;34m\u001b[0m\u001b[0m\n\u001b[1;32m      7\u001b[0m \u001b[0mnp_times\u001b[0m \u001b[0;34m=\u001b[0m \u001b[0;34m[\u001b[0m\u001b[0;34m]\u001b[0m\u001b[0;34m\u001b[0m\u001b[0;34m\u001b[0m\u001b[0m\n",
      "\u001b[0;32mmtrand.pyx\u001b[0m in \u001b[0;36mnumpy.random.mtrand.RandomState.rand\u001b[0;34m()\u001b[0m\n",
      "\u001b[0;32mmtrand.pyx\u001b[0m in \u001b[0;36mnumpy.random.mtrand.RandomState.random_sample\u001b[0;34m()\u001b[0m\n",
      "\u001b[0;32mcommon.pyx\u001b[0m in \u001b[0;36mnumpy.random.common.double_fill\u001b[0;34m()\u001b[0m\n",
      "\u001b[0;31mTypeError\u001b[0m: 'tuple' object cannot be interpreted as an integer"
     ]
    }
   ],
   "source": [
    "start = time.time()\n",
    "matirces1 = []\n",
    "matirces2 = []\n",
    "for i in range(100):\n",
    "    matirces1.append(np.random.rand((N_set[i], N_set[i])))\n",
    "    matirces2.append(np.random.rand((N_set[i], N_set[i])))\n",
    "np_times = []\n",
    "for i in range(100):\n",
    "    start = time.time()\n",
    "    M = matrices1[i] @ matrices2[i]\n",
    "    stop = time.time()\n",
    "    np_times.append(stop - start)\n",
    "print(np_times)\n",
    "    \n",
    "\n"
   ]
  },
  {
   "cell_type": "markdown",
   "metadata": {},
   "source": [
    "Упражнение 2.1"
   ]
  },
  {
   "cell_type": "code",
   "execution_count": 11,
   "metadata": {},
   "outputs": [
    {
     "data": {
      "text/plain": [
       "[<matplotlib.lines.Line2D at 0x11200e910>]"
      ]
     },
     "execution_count": 11,
     "metadata": {},
     "output_type": "execute_result"
    },
    {
     "data": {
      "image/png": "[encoded data removed]",
      "text/plain": [
       "<Figure size 432x288 with 4 Axes>"
      ]
     },
     "metadata": {
      "needs_background": "light"
     },
     "output_type": "display_data"
    }
   ],
   "source": [
    "x = np.linspace(0, 5, 100)\n",
    "y1 = np.e**x\n",
    "y2 = 1 + x\n",
    "y3 = 1 + x + x**2 / 2\n",
    "y4 = 1 + x + x**2 / 2 + x**3 / 6\n",
    "fig, plots = plt.subplots(2, 2)\n",
    "plots[0, 0].plot(x, y1, c='g')\n",
    "plots[0, 1].plot(x, y2, c='r')\n",
    "plots[1, 0].plot(x, y3, c='b')\n",
    "plots[1, 1].plot(x, y4, c='y')"
   ]
  },
  {
   "cell_type": "markdown",
   "metadata": {},
   "source": [
    "Упражнение 2.2"
   ]
  },
  {
   "cell_type": "code",
   "execution_count": 12,
   "metadata": {},
   "outputs": [
    {
     "data": {
      "text/plain": [
       "<ErrorbarContainer object of 3 artists>"
      ]
     },
     "execution_count": 12,
     "metadata": {},
     "output_type": "execute_result"
    },
    {
     "data": {
      "image/png": "[encoded data removed]",
      "text/plain": [
       "<Figure size 432x288 with 1 Axes>"
      ]
     },
     "metadata": {
      "needs_background": "light"
     },
     "output_type": "display_data"
    }
   ],
   "source": [
    "l = np.array((0, 10, 20, 30.1, 40.2))\n",
    "I = np.array((9.071, 8.496, 7.917, 7.358, 6.824))\n",
    "dl = np.array((0, 0.1, 0.1, 0.1, 0.1))\n",
    "dI = np.array((0.003, 0.003, 0.003, 0.003, 0.003))\n",
    "plt.plot(l, I)\n",
    "plt.errorbar(l, I, dI, dl)"
   ]
  },
  {
   "cell_type": "code",
   "execution_count": 13,
   "metadata": {
    "scrolled": true
   },
   "outputs": [
    {
     "data": {
      "text/plain": [
       "[<matplotlib.lines.Line2D at 0x112234790>]"
      ]
     },
     "execution_count": 13,
     "metadata": {},
     "output_type": "execute_result"
    },
    {
     "data": {
      "image/png": "[encoded data removed]",
      "text/plain": [
       "<Figure size 432x288 with 1 Axes>"
      ]
     },
     "metadata": {
      "needs_background": "light"
     },
     "output_type": "display_data"
    }
   ],
   "source": [
    "plt.yscale('log')\n",
    "plt.xscale('log')\n",
    "plt.plot(np.linspace(1, 5, 100), np.linspace(1, 5, 100) ** 2)"
   ]
  },
  {
   "cell_type": "markdown",
   "metadata": {},
   "source": [
    "Упражнение 3.1"
   ]
  },
  {
   "cell_type": "code",
   "execution_count": 39,
   "metadata": {},
   "outputs": [
    {
     "name": "stdout",
     "output_type": "stream",
     "text": [
      "[[0.16 0.2  0.28 ... 0.   0.   0.02]\n",
      " [0.16 0.2  0.28 ... 0.   0.   0.02]\n",
      " [0.16 0.2  0.28 ... 0.   0.   0.02]\n",
      " ...\n",
      " [0.16 0.2  0.28 ... 0.   0.   0.02]\n",
      " [0.16 0.2  0.28 ... 0.   0.   0.02]\n",
      " [0.16 0.2  0.28 ... 0.   0.   0.02]]\n",
      "[0.16 0.2  0.28 0.34 0.42 0.38 0.42 0.46 0.5  0.5  0.48 0.54 0.56 0.54\n",
      " 0.58 0.58 0.58 0.56 0.6  0.6  0.6  0.56 0.6  0.62 0.56 0.58 0.56 0.54\n",
      " 0.6  0.56 0.52 0.52 0.48 0.5  0.48 0.44 0.42 0.4  0.36 0.28 0.28 0.18\n",
      " 0.06 0.   0.   0.   0.   0.   0.   0.   0.   0.   0.   0.   0.   0.\n",
      " 0.   0.   0.   0.   0.   0.   0.   0.   0.   0.   0.   0.   0.   0.\n",
      " 0.   0.   0.   0.   0.   0.   0.   0.   0.   0.   0.   0.   0.   0.\n",
      " 0.   0.   0.   0.   0.   0.   0.   0.   0.   0.   0.   0.   0.   0.\n",
      " 0.   0.   0.   0.   0.   0.   0.   0.   0.   0.   0.   0.   0.   0.\n",
      " 0.   0.   0.   0.   0.   0.   0.   0.   0.   0.   0.   0.   0.   0.\n",
      " 0.   0.   0.   0.   0.   0.   0.   0.   0.   0.   0.   0.   0.   0.\n",
      " 0.   0.   0.   0.   0.   0.   0.   0.   0.   0.   0.   0.   0.   0.\n",
      " 0.   0.   0.   0.   0.   0.   0.   0.   0.   0.   0.   0.   0.   0.\n",
      " 0.   0.   0.   0.   0.   0.   0.   0.   0.   0.   0.   0.   0.   0.\n",
      " 0.   0.   0.   0.   0.   0.   0.   0.   0.   0.   0.   0.   0.   0.\n",
      " 0.   0.   0.   0.   0.   0.   0.   0.   0.   0.   0.   0.   0.   0.\n",
      " 0.   0.   0.   0.   0.   0.   0.   0.   0.   0.   0.   0.   0.   0.\n",
      " 0.   0.   0.   0.   0.   0.   0.   0.   0.   0.   0.   0.   0.   0.\n",
      " 0.   0.   0.   0.   0.   0.   0.   0.   0.   0.   0.   0.   0.   0.\n",
      " 0.   0.   0.   0.   0.   0.   0.   0.   0.   0.   0.   0.   0.   0.\n",
      " 0.   0.   0.   0.   0.   0.   0.   0.   0.   0.   0.   0.   0.   0.\n",
      " 0.   0.   0.   0.   0.   0.   0.   0.   0.   0.   0.   0.   0.   0.\n",
      " 0.   0.   0.   0.   0.   0.   0.   0.   0.   0.   0.   0.   0.   0.\n",
      " 0.   0.   0.   0.   0.   0.   0.   0.   0.   0.   0.   0.   0.   0.\n",
      " 0.   0.   0.   0.   0.   0.   0.   0.   0.   0.   0.   0.   0.   0.\n",
      " 0.   0.   0.   0.   0.   0.   0.   0.   0.   0.   0.   0.   0.   0.\n",
      " 0.   0.   0.   0.   0.   0.   0.   0.   0.   0.   0.   0.   0.   0.\n",
      " 0.   0.   0.   0.   0.   0.   0.   0.   0.   0.   0.   0.   0.   0.\n",
      " 0.   0.   0.   0.   0.   0.   0.   0.   0.   0.   0.   0.   0.   0.\n",
      " 0.   0.   0.   0.   0.   0.   0.   0.   0.   0.   0.   0.   0.   0.\n",
      " 0.   0.   0.   0.   0.   0.   0.   0.   0.   0.   0.   0.   0.   0.\n",
      " 0.   0.   0.   0.   0.   0.   0.   0.   0.   0.   0.   0.   0.   0.\n",
      " 0.   0.   0.   0.   0.   0.   0.   0.   0.   0.   0.   0.   0.   0.\n",
      " 0.   0.   0.   0.   0.   0.   0.   0.   0.   0.   0.   0.   0.   0.\n",
      " 0.   0.   0.   0.   0.   0.   0.   0.   0.   0.   0.   0.   0.   0.\n",
      " 0.   0.   0.   0.   0.   0.   0.   0.   0.   0.   0.   0.   0.   0.\n",
      " 0.   0.   0.   0.   0.   0.   0.   0.   0.   0.02]\n"
     ]
    },
    {
     "ename": "TypeError",
     "evalue": "scatter() missing 2 required positional arguments: 'x' and 'y'",
     "output_type": "error",
     "traceback": [
      "\u001b[0;31m---------------------------------------------------------------------------\u001b[0m",
      "\u001b[0;31mTypeError\u001b[0m                                 Traceback (most recent call last)",
      "\u001b[0;32m<ipython-input-39-46f2bfabd78e>\u001b[0m in \u001b[0;36m<module>\u001b[0;34m\u001b[0m\n\u001b[1;32m     15\u001b[0m \u001b[0mprint\u001b[0m\u001b[0;34m(\u001b[0m\u001b[0mavar\u001b[0m\u001b[0;34m)\u001b[0m\u001b[0;34m\u001b[0m\u001b[0;34m\u001b[0m\u001b[0m\n\u001b[1;32m     16\u001b[0m \u001b[0;31m# plt.hist(avar, bins=500)\u001b[0m\u001b[0;34m\u001b[0m\u001b[0;34m\u001b[0m\u001b[0;34m\u001b[0m\u001b[0m\n\u001b[0;32m---> 17\u001b[0;31m \u001b[0mplt\u001b[0m\u001b[0;34m.\u001b[0m\u001b[0mscatter\u001b[0m\u001b[0;34m(\u001b[0m\u001b[0;34m)\u001b[0m\u001b[0;34m\u001b[0m\u001b[0;34m\u001b[0m\u001b[0m\n\u001b[0m\u001b[1;32m     18\u001b[0m \u001b[0mprint\u001b[0m\u001b[0;34m(\u001b[0m\u001b[0;34m\"!\"\u001b[0m\u001b[0;34m)\u001b[0m\u001b[0;34m\u001b[0m\u001b[0;34m\u001b[0m\u001b[0m\n",
      "\u001b[0;31mTypeError\u001b[0m: scatter() missing 2 required positional arguments: 'x' and 'y'"
     ]
    }
   ],
   "source": [
    "N = 1000\n",
    "M = np.random.normal(1, 1, size=(N, N))\n",
    "symM = (M + M.T) / 2\n",
    "val, vect = np.linalg.eig(symM)\n",
    "data = []\n",
    "Nexp = 50\n",
    "# plt.hist(val, bins=500)\n",
    "for i in range(Nexp):\n",
    "    (n, bins) = np.histogram(val, bins=500)\n",
    "    data.append(n / Nexp) \n",
    "data = np.array(data)\n",
    "print(data)\n",
    "avar = np.mean(data, axis=0)\n",
    "print(avar)\n",
    "# plt.hist(avar, bins=500)\n",
    "plt.scatter()\n",
    "print(\"!\")"
   ]
  },
  {
   "cell_type": "code",
   "execution_count": null,
   "metadata": {},
   "outputs": [],
   "source": []
  },
  {
   "cell_type": "code",
   "execution_count": null,
   "metadata": {},
   "outputs": [],
   "source": []
  }
 ],
 "metadata": {
  "kernelspec": {
   "display_name": "Python 3",
   "language": "python",
   "name": "python3"
  },
  "language_info": {
   "codemirror_mode": {
    "name": "ipython",
    "version": 3
   },
   "file_extension": ".py",
   "mimetype": "text/x-python",
   "name": "python",
   "nbconvert_exporter": "python",
   "pygments_lexer": "ipython3",
   "version": "3.7.4"
  }
 },
 "nbformat": 4,
 "nbformat_minor": 2
}
