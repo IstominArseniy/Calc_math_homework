{
 "cells": [
  {
   "cell_type": "code",
   "execution_count": 1,
   "metadata": {},
   "outputs": [],
   "source": [
    "import numpy as np\n",
    "from matplotlib import pyplot as plt\n",
    "import time"
   ]
  },
  {
   "cell_type": "markdown",
   "metadata": {},
   "source": [
    "Упражнение 1"
   ]
  },
  {
   "cell_type": "code",
   "execution_count": 3,
   "metadata": {},
   "outputs": [
    {
     "name": "stdout",
     "output_type": "stream",
     "text": [
      "[[1. 1. 1. 1. 1.]\n",
      " [1. 1. 1. 1. 1.]\n",
      " [1. 1. 1. 1. 1.]] \n",
      " [[0. 0. 0. 0. 0. 0. 0. 0. 0. 0.]\n",
      " [0. 0. 0. 0. 0. 0. 0. 0. 0. 0.]\n",
      " [0. 0. 0. 0. 0. 0. 0. 0. 0. 0.]] \n",
      " [[1. 1. 1. 1. 1. 0. 0. 0. 0. 0. 0. 0. 0. 0. 0.]\n",
      " [1. 1. 1. 1. 1. 0. 0. 0. 0. 0. 0. 0. 0. 0. 0.]\n",
      " [1. 1. 1. 1. 1. 0. 0. 0. 0. 0. 0. 0. 0. 0. 0.]]\n"
     ]
    }
   ],
   "source": [
    "a = np.ones((3, 5))\n",
    "b = np.zeros((3, 10))\n",
    "c = np.concatenate((a, b), axis=1)\n",
    "print(a, '\\n', b, '\\n', c)"
   ]
  },
  {
   "cell_type": "markdown",
   "metadata": {},
   "source": [
    "Упражнение 2"
   ]
  },
  {
   "cell_type": "code",
   "execution_count": 4,
   "metadata": {},
   "outputs": [
    {
     "name": "stdout",
     "output_type": "stream",
     "text": [
      "[[0.53837385 0.10358712 0.07068094 0.16490618 0.25663117 0.99344501\n",
      "  0.74091353 0.63641521 0.28597538 0.05437227]\n",
      " [0.25450293 0.36715049 0.40555096 0.02089584 0.97986989 0.21973582\n",
      "  0.78595761 0.82735951 0.68050115 0.2871453 ]\n",
      " [0.06316251 0.6924918  0.43587715 0.20803863 0.71354936 0.68387112\n",
      "  0.65500787 0.57471031 0.92079752 0.19031074]\n",
      " [0.67279229 0.08692888 0.80126698 0.09329993 0.59116879 0.92917654\n",
      "  0.42372833 0.28188839 0.9125491  0.7599419 ]\n",
      " [0.81412696 0.28784041 0.8449616  0.32935215 0.57529206 0.36442396\n",
      "  0.50552989 0.56158037 0.99909534 0.42163603]\n",
      " [0.09545311 0.31377229 0.49849775 0.62177657 0.42790124 0.21476498\n",
      "  0.05970656 0.42912835 0.93506871 0.22321409]\n",
      " [0.86149299 0.16746974 0.65806748 0.89924399 0.10542675 0.92988547\n",
      "  0.46335932 0.59937548 0.13459619 0.24158177]\n",
      " [0.02009874 0.03763368 0.44053247 0.79533231 0.19159861 0.9167373\n",
      "  0.95910791 0.28307952 0.93404173 0.71626099]\n",
      " [0.63818008 0.6091204  0.1462101  0.00154563 0.62674134 0.33855563\n",
      "  0.99461951 0.89930759 0.21411745 0.99019339]\n",
      " [0.68920922 0.62577922 0.70044542 0.27453085 0.48536096 0.38201002\n",
      "  0.0986102  0.55062865 0.61686585 0.56579653]] [3 5 5 2 5] [1 2 1 8 4]\n",
      "[0.08692888 0.49849775 0.31377229 0.92079752 0.42790124]\n"
     ]
    }
   ],
   "source": [
    "M = np.random.rand(10, 10)\n",
    "a = np.random.randint(0, 9, 5)\n",
    "b = np.random.randint(0, 9, 5)\n",
    "print(M, a, b)\n",
    "c = M[a, b]\n",
    "print(c)"
   ]
  },
  {
   "cell_type": "markdown",
   "metadata": {},
   "source": [
    "Упражнение 3"
   ]
  },
  {
   "cell_type": "code",
   "execution_count": 5,
   "metadata": {},
   "outputs": [
    {
     "name": "stdout",
     "output_type": "stream",
     "text": [
      "[[0. 0. 0.]\n",
      " [0. 2. 0.]\n",
      " [0. 0. 2.]]\n",
      "4.0\n",
      "2\n"
     ]
    }
   ],
   "source": [
    "a = np.eye(3) * 2\n",
    "a[0, 0] = 0\n",
    "print(a)\n",
    "print(np.trace(a))\n",
    "print(np.count_nonzero(np.diagonal(a)))"
   ]
  },
  {
   "cell_type": "markdown",
   "metadata": {},
   "source": [
    "Упражнение 4"
   ]
  },
  {
   "cell_type": "code",
   "execution_count": 6,
   "metadata": {},
   "outputs": [
    {
     "name": "stdout",
     "output_type": "stream",
     "text": [
      "[[[2 2 3]\n",
      "  [1 3 1]\n",
      "  [1 2 3]]\n",
      "\n",
      " [[3 3 3]\n",
      "  [3 2 1]\n",
      "  [1 3 3]]\n",
      "\n",
      " [[1 2 2]\n",
      "  [2 2 1]\n",
      "  [3 2 1]]]\n",
      "[[ 1  8]\n",
      " [ 2  9]\n",
      " [ 3 10]]\n"
     ]
    }
   ],
   "source": [
    "t = np.random.randint(1, 4, (3, 3, 3))\n",
    "(unique, counts) = np.unique(t, return_counts=True)\n",
    "print(t)\n",
    "ans = np.asarray((unique, counts))\n",
    "ans = ans.T\n",
    "print(ans)"
   ]
  },
  {
   "cell_type": "markdown",
   "metadata": {},
   "source": [
    "Упражнение 5"
   ]
  },
  {
   "cell_type": "code",
   "execution_count": 7,
   "metadata": {},
   "outputs": [
    {
     "name": "stdout",
     "output_type": "stream",
     "text": [
      "[[  2   5  -2   0   8]\n",
      " [ -6  -7  -2  -5   0]\n",
      " [  9  -2  -2 -10  -1]\n",
      " [  4  -8   9   3   3]]\n",
      "[[ 0 -6  3 -6  7]\n",
      " [-2 -8 -1 -2  0]\n",
      " [ 0  3  8  7 -7]\n",
      " [ 1 -2  2  1 -2]]\n",
      "[[ 0 -6  0 -6  7]\n",
      " [ 0  0  0  0  0]\n",
      " [ 0  0  0  0  0]\n",
      " [ 1  0  2  1 -2]]\n"
     ]
    }
   ],
   "source": [
    "a = np.random.randint(-10, 10, (4, 5))\n",
    "print(a)\n",
    "b = np.random.randint(-10, 10, (4, 5))\n",
    "print(b)\n",
    "b = np.where(a < 0, 0, b)\n",
    "print(b)"
   ]
  },
  {
   "cell_type": "markdown",
   "metadata": {},
   "source": [
    "Упражнение 6"
   ]
  },
  {
   "cell_type": "code",
   "execution_count": 8,
   "metadata": {},
   "outputs": [
    {
     "name": "stdout",
     "output_type": "stream",
     "text": [
      "[[ 4  4  2 -6]\n",
      " [ 0  0 -1 -3]\n",
      " [-1  5 -5 -2]]\n",
      "[ 1.          3.         -1.33333333 -3.66666667]\n",
      "[[ 1.          3.         -1.33333333 -3.66666667]\n",
      " [ 1.          3.         -1.33333333 -3.66666667]\n",
      " [ 1.          3.         -1.33333333 -3.66666667]]\n",
      "[[ 3.          1.          3.33333333 -2.33333333]\n",
      " [-1.         -3.          0.33333333  0.66666667]\n",
      " [-2.          2.         -3.66666667  1.66666667]]\n",
      "[3.74165739 3.74165739 4.96655481 2.94392029]\n",
      "[[ 0.80178373  0.26726124  0.67115606 -0.79259392]\n",
      " [-0.26726124 -0.80178373  0.06711561  0.22645541]\n",
      " [-0.53452248  0.53452248 -0.73827166  0.56613852]]\n"
     ]
    }
   ],
   "source": [
    "M = np.random.randint(-6, 6, (3, 4))\n",
    "print(M)\n",
    "avar = np.mean(M, axis = 0)\n",
    "print(avar)\n",
    "print(np.ones((3, 1)) * avar )\n",
    "M = M - avar * np.ones((3, 1)) \n",
    "print(M)\n",
    "sq = np.sum(M ** 2, axis = 0) ** 0.5\n",
    "print(sq)\n",
    "M = M / np.where(sq * np.ones((3, 1)) != 0, sq * np.ones((3, 1)), 1)\n",
    "print(M)"
   ]
  },
  {
   "cell_type": "markdown",
   "metadata": {},
   "source": [
    "Упражнение 7"
   ]
  },
  {
   "cell_type": "code",
   "execution_count": 9,
   "metadata": {},
   "outputs": [
    {
     "name": "stdout",
     "output_type": "stream",
     "text": [
      "[[-1 -6  4 -6]\n",
      " [ 5  1  3 -4]\n",
      " [-5 -4  4  0]]\n",
      "[[ 4  0  3 -2]\n",
      " [-1  2 -6  0]\n",
      " [ 3 -1  4  3]]\n"
     ]
    }
   ],
   "source": [
    "A = np.random.randint(-6, 6, (3, 4))\n",
    "B = np.random.randint(-6, 6, (3, 4))\n",
    "print(A)\n",
    "print(B)\n",
    "A = A.T\n",
    "B = B.T"
   ]
  },
  {
   "cell_type": "markdown",
   "metadata": {},
   "source": [
    "Упражнение 8"
   ]
  },
  {
   "cell_type": "code",
   "execution_count": 2,
   "metadata": {},
   "outputs": [],
   "source": [
    "def multiply(M1, M2):\n",
    "    n1 = M1.shape[0]\n",
    "    m1 = M1.shape[1]\n",
    "    n2 = M2.shape[0]\n",
    "    m2 = M1.shape[1]\n",
    "    if m1 != n2:\n",
    "        return NULL\n",
    "    M = np.zeros((n1, m2))\n",
    "    for i in range(n1):\n",
    "        for j in range(m2):\n",
    "            for h in range(m1):\n",
    "                M[i][j] += M1[i][h] * M2[h][j]\n",
    "    return M"
   ]
  },
  {
   "cell_type": "code",
   "execution_count": 3,
   "metadata": {},
   "outputs": [
    {
     "name": "stdout",
     "output_type": "stream",
     "text": [
      "[ 10  10  10  10  10  11  11  11  12  12  12  12  13  13  13  14  14  14\n",
      "  15  15  15  16  16  17  17  17  18  18  19  19  20  20  21  21  22  22\n",
      "  23  23  24  24  25  25  26  27  27  28  29  29  30  31  31  32  33  34\n",
      "  35  35  36  37  38  39  40  41  42  43  44  45  46  47  48  49  50  52\n",
      "  53  54  55  57  58  59  61  62  64  65  67  68  70  72  73  75  77  79\n",
      "  81  83  84  86  89  91  93  95  97 100]\n"
     ]
    }
   ],
   "source": [
    "N_set = np.logspace(1, 2, 100)\n",
    "N_set = N_set.astype(int)\n",
    "print(N_set)"
   ]
  },
  {
   "cell_type": "code",
   "execution_count": 7,
   "metadata": {},
   "outputs": [
    {
     "data": {
      "text/plain": [
       "<matplotlib.legend.Legend at 0x109905f50>"
      ]
     },
     "execution_count": 7,
     "metadata": {},
     "output_type": "execute_result"
    },
    {
     "data": {
      "image/png": "[encoded data removed]",
      "text/plain": [
       "<Figure size 432x288 with 1 Axes>"
      ]
     },
     "metadata": {
      "needs_background": "light"
     },
     "output_type": "display_data"
    }
   ],
   "source": [
    "start = time.time()\n",
    "matrices1 = []\n",
    "matrices2 = []\n",
    "for i in range(100):\n",
    "    matrices1.append(np.random.rand(N_set[i], N_set[i]))\n",
    "    matrices2.append(np.random.rand(N_set[i], N_set[i]))\n",
    "np_times_numpy = []\n",
    "np_times_for = []\n",
    "for i in range(100):\n",
    "    start = time.time()\n",
    "    M = matrices1[i] @ matrices2[i]\n",
    "    stop = time.time()\n",
    "    np_times_numpy.append(stop - start)\n",
    "for i in range(100):\n",
    "    start = time.time()\n",
    "    M = multiply(matrices1[i],  matrices2[i])\n",
    "    stop = time.time()\n",
    "    np_times_for.append(stop - start)\n",
    "plt.xscale('log')\n",
    "plt.yscale('log')\n",
    "plt.plot(N_set, np_times_numpy, label='numpy')\n",
    "plt.plot(N_set, np_times_for, label='for')\n",
    "plt.legend()\n",
    "    \n",
    "\n"
   ]
  },
  {
   "cell_type": "markdown",
   "metadata": {},
   "source": [
    "Упражнение 2.1"
   ]
  },
  {
   "cell_type": "code",
   "execution_count": 12,
   "metadata": {},
   "outputs": [
    {
     "data": {
      "text/plain": [
       "[<matplotlib.lines.Line2D at 0x118419490>]"
      ]
     },
     "execution_count": 12,
     "metadata": {},
     "output_type": "execute_result"
    },
    {
     "data": {
      "image/png": "[encoded data removed]",
      "text/plain": [
       "<Figure size 432x288 with 4 Axes>"
      ]
     },
     "metadata": {
      "needs_background": "light"
     },
     "output_type": "display_data"
    }
   ],
   "source": [
    "x = np.linspace(0, 5, 100)\n",
    "y1 = np.e**x\n",
    "y2 = 1 + x\n",
    "y3 = 1 + x + x**2 / 2\n",
    "y4 = 1 + x + x**2 / 2 + x**3 / 6\n",
    "fig, plots = plt.subplots(2, 2)\n",
    "plots[0, 0].plot(x, y1, c='g')\n",
    "plots[0, 1].plot(x, y2, c='r')\n",
    "plots[1, 0].plot(x, y3, c='b')\n",
    "plots[1, 1].plot(x, y4, c='y')"
   ]
  },
  {
   "cell_type": "markdown",
   "metadata": {},
   "source": [
    "Упражнение 2.2"
   ]
  },
  {
   "cell_type": "code",
   "execution_count": 16,
   "metadata": {},
   "outputs": [
    {
     "data": {
      "text/plain": [
       "<ErrorbarContainer object of 3 artists>"
      ]
     },
     "execution_count": 16,
     "metadata": {},
     "output_type": "execute_result"
    },
    {
     "data": {
      "image/png": "[encoded data removed]",
      "text/plain": [
       "<Figure size 432x288 with 1 Axes>"
      ]
     },
     "metadata": {
      "needs_background": "light"
     },
     "output_type": "display_data"
    }
   ],
   "source": [
    "l = np.array((0, 10, 20, 30.1, 40.2))\n",
    "I = np.array((9.071, 8.496, 7.917, 7.358, 6.824))\n",
    "dl = np.array((0, 0.1, 0.1, 0.1, 0.1)) * 10 # just to make errorbars bigger\n",
    "dI = np.array((0.003, 0.003, 0.003, 0.003, 0.003)) * 50 # same thing\n",
    "plt.plot(l, I)\n",
    "plt.errorbar(l, I, dI, dl)"
   ]
  },
  {
   "cell_type": "code",
   "execution_count": 13,
   "metadata": {
    "scrolled": true
   },
   "outputs": [
    {
     "data": {
      "text/plain": [
       "[<matplotlib.lines.Line2D at 0x112234790>]"
      ]
     },
     "execution_count": 13,
     "metadata": {},
     "output_type": "execute_result"
    },
    {
     "data": {
      "image/png": "[encoded data removed]",
      "text/plain": [
       "<Figure size 432x288 with 1 Axes>"
      ]
     },
     "metadata": {
      "needs_background": "light"
     },
     "output_type": "display_data"
    }
   ],
   "source": [
    "plt.yscale('log')\n",
    "plt.xscale('log')\n",
    "plt.plot(np.linspace(1, 5, 100), np.linspace(1, 5, 100) ** 2)"
   ]
  },
  {
   "cell_type": "markdown",
   "metadata": {},
   "source": [
    "Упражнение 3.1"
   ]
  },
  {
   "cell_type": "code",
   "execution_count": 39,
   "metadata": {},
   "outputs": [
    {
     "name": "stdout",
     "output_type": "stream",
     "text": [
      "[[0.16 0.2  0.28 ... 0.   0.   0.02]\n",
      " [0.16 0.2  0.28 ... 0.   0.   0.02]\n",
      " [0.16 0.2  0.28 ... 0.   0.   0.02]\n",
      " ...\n",
      " [0.16 0.2  0.28 ... 0.   0.   0.02]\n",
      " [0.16 0.2  0.28 ... 0.   0.   0.02]\n",
      " [0.16 0.2  0.28 ... 0.   0.   0.02]]\n",
      "[0.16 0.2  0.28 0.34 0.42 0.38 0.42 0.46 0.5  0.5  0.48 0.54 0.56 0.54\n",
      " 0.58 0.58 0.58 0.56 0.6  0.6  0.6  0.56 0.6  0.62 0.56 0.58 0.56 0.54\n",
      " 0.6  0.56 0.52 0.52 0.48 0.5  0.48 0.44 0.42 0.4  0.36 0.28 0.28 0.18\n",
      " 0.06 0.   0.   0.   0.   0.   0.   0.   0.   0.   0.   0.   0.   0.\n",
      " 0.   0.   0.   0.   0.   0.   0.   0.   0.   0.   0.   0.   0.   0.\n",
      " 0.   0.   0.   0.   0.   0.   0.   0.   0.   0.   0.   0.   0.   0.\n",
      " 0.   0.   0.   0.   0.   0.   0.   0.   0.   0.   0.   0.   0.   0.\n",
      " 0.   0.   0.   0.   0.   0.   0.   0.   0.   0.   0.   0.   0.   0.\n",
      " 0.   0.   0.   0.   0.   0.   0.   0.   0.   0.   0.   0.   0.   0.\n",
      " 0.   0.   0.   0.   0.   0.   0.   0.   0.   0.   0.   0.   0.   0.\n",
      " 0.   0.   0.   0.   0.   0.   0.   0.   0.   0.   0.   0.   0.   0.\n",
      " 0.   0.   0.   0.   0.   0.   0.   0.   0.   0.   0.   0.   0.   0.\n",
      " 0.   0.   0.   0.   0.   0.   0.   0.   0.   0.   0.   0.   0.   0.\n",
      " 0.   0.   0.   0.   0.   0.   0.   0.   0.   0.   0.   0.   0.   0.\n",
      " 0.   0.   0.   0.   0.   0.   0.   0.   0.   0.   0.   0.   0.   0.\n",
      " 0.   0.   0.   0.   0.   0.   0.   0.   0.   0.   0.   0.   0.   0.\n",
      " 0.   0.   0.   0.   0.   0.   0.   0.   0.   0.   0.   0.   0.   0.\n",
      " 0.   0.   0.   0.   0.   0.   0.   0.   0.   0.   0.   0.   0.   0.\n",
      " 0.   0.   0.   0.   0.   0.   0.   0.   0.   0.   0.   0.   0.   0.\n",
      " 0.   0.   0.   0.   0.   0.   0.   0.   0.   0.   0.   0.   0.   0.\n",
      " 0.   0.   0.   0.   0.   0.   0.   0.   0.   0.   0.   0.   0.   0.\n",
      " 0.   0.   0.   0.   0.   0.   0.   0.   0.   0.   0.   0.   0.   0.\n",
      " 0.   0.   0.   0.   0.   0.   0.   0.   0.   0.   0.   0.   0.   0.\n",
      " 0.   0.   0.   0.   0.   0.   0.   0.   0.   0.   0.   0.   0.   0.\n",
      " 0.   0.   0.   0.   0.   0.   0.   0.   0.   0.   0.   0.   0.   0.\n",
      " 0.   0.   0.   0.   0.   0.   0.   0.   0.   0.   0.   0.   0.   0.\n",
      " 0.   0.   0.   0.   0.   0.   0.   0.   0.   0.   0.   0.   0.   0.\n",
      " 0.   0.   0.   0.   0.   0.   0.   0.   0.   0.   0.   0.   0.   0.\n",
      " 0.   0.   0.   0.   0.   0.   0.   0.   0.   0.   0.   0.   0.   0.\n",
      " 0.   0.   0.   0.   0.   0.   0.   0.   0.   0.   0.   0.   0.   0.\n",
      " 0.   0.   0.   0.   0.   0.   0.   0.   0.   0.   0.   0.   0.   0.\n",
      " 0.   0.   0.   0.   0.   0.   0.   0.   0.   0.   0.   0.   0.   0.\n",
      " 0.   0.   0.   0.   0.   0.   0.   0.   0.   0.   0.   0.   0.   0.\n",
      " 0.   0.   0.   0.   0.   0.   0.   0.   0.   0.   0.   0.   0.   0.\n",
      " 0.   0.   0.   0.   0.   0.   0.   0.   0.   0.   0.   0.   0.   0.\n",
      " 0.   0.   0.   0.   0.   0.   0.   0.   0.   0.02]\n"
     ]
    },
    {
     "ename": "TypeError",
     "evalue": "scatter() missing 2 required positional arguments: 'x' and 'y'",
     "output_type": "error",
     "traceback": [
      "\u001b[0;31m---------------------------------------------------------------------------\u001b[0m",
      "\u001b[0;31mTypeError\u001b[0m                                 Traceback (most recent call last)",
      "\u001b[0;32m<ipython-input-39-46f2bfabd78e>\u001b[0m in \u001b[0;36m<module>\u001b[0;34m\u001b[0m\n\u001b[1;32m     15\u001b[0m \u001b[0mprint\u001b[0m\u001b[0;34m(\u001b[0m\u001b[0mavar\u001b[0m\u001b[0;34m)\u001b[0m\u001b[0;34m\u001b[0m\u001b[0;34m\u001b[0m\u001b[0m\n\u001b[1;32m     16\u001b[0m \u001b[0;31m# plt.hist(avar, bins=500)\u001b[0m\u001b[0;34m\u001b[0m\u001b[0;34m\u001b[0m\u001b[0;34m\u001b[0m\u001b[0m\n\u001b[0;32m---> 17\u001b[0;31m \u001b[0mplt\u001b[0m\u001b[0;34m.\u001b[0m\u001b[0mscatter\u001b[0m\u001b[0;34m(\u001b[0m\u001b[0;34m)\u001b[0m\u001b[0;34m\u001b[0m\u001b[0;34m\u001b[0m\u001b[0m\n\u001b[0m\u001b[1;32m     18\u001b[0m \u001b[0mprint\u001b[0m\u001b[0;34m(\u001b[0m\u001b[0;34m\"!\"\u001b[0m\u001b[0;34m)\u001b[0m\u001b[0;34m\u001b[0m\u001b[0;34m\u001b[0m\u001b[0m\n",
      "\u001b[0;31mTypeError\u001b[0m: scatter() missing 2 required positional arguments: 'x' and 'y'"
     ]
    }
   ],
   "source": [
    "N = 1000\n",
    "M = np.random.normal(1, 1, size=(N, N))\n",
    "symM = (M + M.T) / 2\n",
    "val, vect = np.linalg.eig(symM)\n",
    "data = []\n",
    "Nexp = 50\n",
    "# plt.hist(val, bins=500)\n",
    "for i in range(Nexp):\n",
    "    (n, bins) = np.histogram(val, bins=500)\n",
    "    data.append(n / Nexp) \n",
    "data = np.array(data)\n",
    "print(data)\n",
    "avar = np.mean(data, axis=0)\n",
    "print(avar)\n",
    "# plt.hist(avar, bins=500)\n",
    "plt.scatter()\n",
    "print(\"!\")"
   ]
  },
  {
   "cell_type": "code",
   "execution_count": null,
   "metadata": {},
   "outputs": [],
   "source": []
  },
  {
   "cell_type": "code",
   "execution_count": null,
   "metadata": {},
   "outputs": [],
   "source": []
  }
 ],
 "metadata": {
  "kernelspec": {
   "display_name": "Python 3",
   "language": "python",
   "name": "python3"
  },
  "language_info": {
   "codemirror_mode": {
    "name": "ipython",
    "version": 3
   },
   "file_extension": ".py",
   "mimetype": "text/x-python",
   "name": "python",
   "nbconvert_exporter": "python",
   "pygments_lexer": "ipython3",
   "version": "3.7.4"
  }
 },
 "nbformat": 4,
 "nbformat_minor": 2
}
